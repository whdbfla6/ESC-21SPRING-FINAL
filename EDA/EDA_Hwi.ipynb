{
  "nbformat": 4,
  "nbformat_minor": 0,
  "metadata": {
    "colab": {
      "name": "EDA_Hwi.ipynb",
      "provenance": [],
      "collapsed_sections": [],
      "toc_visible": true
    },
    "kernelspec": {
      "name": "python3",
      "display_name": "Python 3"
    },
    "language_info": {
      "name": "python"
    }
  },
  "cells": [
    {
      "cell_type": "code",
      "metadata": {
        "colab": {
          "base_uri": "https://localhost:8080/"
        },
        "id": "HIw_pFbiCUN3",
        "outputId": "30f95f43-eb28-469a-85f3-87ea370dd0c7"
      },
      "source": [
        "!apt -qq -y install fonts-nanum > /dev/null\n",
        "\n",
        "import matplotlib.font_manager as fm\n",
        "\n",
        "fontpath = '/usr/share/fonts/truetype/nanum/NanumBarunGothic.ttf'\n",
        "\n",
        "font = fm.FontProperties(fname=fontpath, size=9)\n",
        "\n",
        "fm._rebuild()"
      ],
      "execution_count": null,
      "outputs": [
        {
          "output_type": "stream",
          "text": [
            "\n",
            "WARNING: apt does not have a stable CLI interface. Use with caution in scripts.\n",
            "\n"
          ],
          "name": "stdout"
        }
      ]
    },
    {
      "cell_type": "code",
      "metadata": {
        "id": "4g3ahtkOKXDB"
      },
      "source": [
        "import pandas as pd\n",
        "import seaborn as sns\n",
        "import matplotlib.pyplot as plt\n",
        "plt.rc('font', family='NanumBarunGothic') "
      ],
      "execution_count": null,
      "outputs": []
    },
    {
      "cell_type": "code",
      "metadata": {
        "id": "BJKKjbRbZCej"
      },
      "source": [
        "data = pd.read_csv('/content/Auction_master_train.csv')"
      ],
      "execution_count": null,
      "outputs": []
    },
    {
      "cell_type": "code",
      "metadata": {
        "colab": {
          "base_uri": "https://localhost:8080/"
        },
        "id": "DnVNdPFvZbs3",
        "outputId": "ba8aa3c4-e7cc-42f9-84ae-dbd8f85e2f4b"
      },
      "source": [
        "data.shape"
      ],
      "execution_count": null,
      "outputs": [
        {
          "output_type": "execute_result",
          "data": {
            "text/plain": [
              "(1933, 41)"
            ]
          },
          "metadata": {
            "tags": []
          },
          "execution_count": 4
        }
      ]
    },
    {
      "cell_type": "markdown",
      "metadata": {
        "id": "vbSELm-CaZ3S"
      },
      "source": [
        "#### Column 확인"
      ]
    },
    {
      "cell_type": "markdown",
      "metadata": {
        "id": "_Sr6EfqJao8l"
      },
      "source": [
        "Auction_key: 경매 아파트 고유키 값\n",
        "\n",
        "Auction_class: 경매 구분 - 강제경매 / 임의 경매\n",
        "\n",
        "Bid_class: 입찰구분 - 일반/개별/일괄\n",
        "\n",
        "Claim_price: 경매 신청인의 청구 금액\n",
        "\n",
        "Appraisal_company: 감정사\n",
        "\n",
        "Appraisal_date: 감정일자\n",
        "\n",
        "Auction_count: 총 경매횟수\n",
        "\n",
        "Auction_miscarriage_count: 총 유찰횟수\n",
        "\n",
        "Total_land_gross_area: 총 토지 전체면적 ($m^2$)\n",
        "\n",
        "Total_land_real_area: 총 토지 실면적 ($m^2$)\n",
        "\n",
        "Total_land_auction_area: 총 토지 경매 면적 ($m^2$)\n",
        "\n",
        "Total_building_area: 총 건물 면적 ($m^2$)\n",
        "\n",
        "Total_building_auction_area: 총 건물 경매 면적 ($m^2$)\n",
        "\n",
        "Total_appraisal_price: 총 감정가\n",
        "\n",
        "Minimum_sales_price: 최저 매각 가격 (입찰 시 최저로 제시해야 하는 금액)\n",
        "\n",
        "First_auction_date: 최초 경매일\n",
        "\n",
        "Final_auction_date: 최종 경매일\n",
        "\n",
        "Final_result: 최종결과\n",
        "\n",
        "Creditor: 채권자, 경매 신청인\n",
        "\n",
        "addr_do: 주소 - 시도\n",
        "\n",
        "addr_si: 주소 - 시군구\n",
        "\n",
        "addr_dong: 주소 - 읍면동\n",
        "\n",
        "addr_li: 주소 - 리\n",
        "\n",
        "addr_san : 주소 - 산번지 여부\n",
        "\n",
        "addr_bunji1: 주소 - 번지1\n",
        "\n",
        "addr_bunji2: 주소 - 번지2\n",
        "\n",
        "addr_etc: 주소 - 기타주소\n",
        "\n",
        "Apartment_usage: 건물(토지)의 대표 용도\n",
        "\n",
        "Completion_date: 준공일\n",
        "\n",
        "Preserve_regist_date: 보존등기일 (건물을 신축하고 처음으로 등기한 날짜)\n",
        "\n",
        "Total_floor: 총 층 수\n",
        "\n",
        "Current_floor: 현재 층 수\n",
        "\n",
        "Specific: 기타 특이사항\n",
        "\n",
        "Share_auction_YorN: 지분경매 여부 (하나의 부동산이 전체가 아닌 일부만 경매 진행)\n",
        "\n",
        "road_name: 도로명주소 - 도로명\n",
        "\n",
        "road_bunji1: 도로명주소 - 번지1\n",
        "\n",
        "road_bunji2: 도로명주소 - 번지2\n",
        "\n",
        "Close-date: 종국일자\n",
        "\n",
        "Close_result: 종국 결과, 낙찰과 배당의 차이\n",
        "\n",
        "point.y: 위도\n",
        "\n",
        "point.x 경도\n",
        "\n",
        "Hammer_price: 낙찰가"
      ]
    },
    {
      "cell_type": "code",
      "metadata": {
        "colab": {
          "base_uri": "https://localhost:8080/",
          "height": 433
        },
        "id": "SA9sX_y1advf",
        "outputId": "412e9512-364f-4d8b-d45a-85ce3abc9bd5"
      },
      "source": [
        "data.head()"
      ],
      "execution_count": null,
      "outputs": [
        {
          "output_type": "execute_result",
          "data": {
            "text/html": [
              "<div>\n",
              "<style scoped>\n",
              "    .dataframe tbody tr th:only-of-type {\n",
              "        vertical-align: middle;\n",
              "    }\n",
              "\n",
              "    .dataframe tbody tr th {\n",
              "        vertical-align: top;\n",
              "    }\n",
              "\n",
              "    .dataframe thead th {\n",
              "        text-align: right;\n",
              "    }\n",
              "</style>\n",
              "<table border=\"1\" class=\"dataframe\">\n",
              "  <thead>\n",
              "    <tr style=\"text-align: right;\">\n",
              "      <th></th>\n",
              "      <th>Auction_key</th>\n",
              "      <th>Auction_class</th>\n",
              "      <th>Bid_class</th>\n",
              "      <th>Claim_price</th>\n",
              "      <th>Appraisal_company</th>\n",
              "      <th>Appraisal_date</th>\n",
              "      <th>Auction_count</th>\n",
              "      <th>Auction_miscarriage_count</th>\n",
              "      <th>Total_land_gross_area</th>\n",
              "      <th>Total_land_real_area</th>\n",
              "      <th>Total_land_auction_area</th>\n",
              "      <th>Total_building_area</th>\n",
              "      <th>Total_building_auction_area</th>\n",
              "      <th>Total_appraisal_price</th>\n",
              "      <th>Minimum_sales_price</th>\n",
              "      <th>First_auction_date</th>\n",
              "      <th>Final_auction_date</th>\n",
              "      <th>Final_result</th>\n",
              "      <th>Creditor</th>\n",
              "      <th>addr_do</th>\n",
              "      <th>addr_si</th>\n",
              "      <th>addr_dong</th>\n",
              "      <th>addr_li</th>\n",
              "      <th>addr_san</th>\n",
              "      <th>addr_bunji1</th>\n",
              "      <th>addr_bunji2</th>\n",
              "      <th>addr_etc</th>\n",
              "      <th>Apartment_usage</th>\n",
              "      <th>Preserve_regist_date</th>\n",
              "      <th>Total_floor</th>\n",
              "      <th>Current_floor</th>\n",
              "      <th>Specific</th>\n",
              "      <th>Share_auction_YorN</th>\n",
              "      <th>road_name</th>\n",
              "      <th>road_bunji1</th>\n",
              "      <th>road_bunji2</th>\n",
              "      <th>Close_date</th>\n",
              "      <th>Close_result</th>\n",
              "      <th>point.y</th>\n",
              "      <th>point.x</th>\n",
              "      <th>Hammer_price</th>\n",
              "    </tr>\n",
              "  </thead>\n",
              "  <tbody>\n",
              "    <tr>\n",
              "      <th>0</th>\n",
              "      <td>2687</td>\n",
              "      <td>임의</td>\n",
              "      <td>개별</td>\n",
              "      <td>1766037301</td>\n",
              "      <td>정명감정</td>\n",
              "      <td>2017-07-26 00:00:00</td>\n",
              "      <td>2</td>\n",
              "      <td>1</td>\n",
              "      <td>12592.0</td>\n",
              "      <td>37.35</td>\n",
              "      <td>37.35</td>\n",
              "      <td>181.77</td>\n",
              "      <td>181.77</td>\n",
              "      <td>836000000</td>\n",
              "      <td>668800000</td>\n",
              "      <td>2018-02-13 00:00:00</td>\n",
              "      <td>2018-03-20 00:00:00</td>\n",
              "      <td>낙찰</td>\n",
              "      <td>베리타스자산관리대부</td>\n",
              "      <td>부산</td>\n",
              "      <td>해운대구</td>\n",
              "      <td>우동</td>\n",
              "      <td>NaN</td>\n",
              "      <td>N</td>\n",
              "      <td>1398.0</td>\n",
              "      <td>NaN</td>\n",
              "      <td>해운대엑소디움 5층 101-502호</td>\n",
              "      <td>주상복합</td>\n",
              "      <td>2009-07-14 00:00:00</td>\n",
              "      <td>45</td>\n",
              "      <td>5</td>\n",
              "      <td>NaN</td>\n",
              "      <td>N</td>\n",
              "      <td>해운대해변로</td>\n",
              "      <td>30.0</td>\n",
              "      <td>NaN</td>\n",
              "      <td>2018-06-14 00:00:00</td>\n",
              "      <td>배당</td>\n",
              "      <td>35.162717</td>\n",
              "      <td>129.137048</td>\n",
              "      <td>760000000</td>\n",
              "    </tr>\n",
              "    <tr>\n",
              "      <th>1</th>\n",
              "      <td>2577</td>\n",
              "      <td>임의</td>\n",
              "      <td>일반</td>\n",
              "      <td>152946867</td>\n",
              "      <td>희감정</td>\n",
              "      <td>2016-09-12 00:00:00</td>\n",
              "      <td>2</td>\n",
              "      <td>1</td>\n",
              "      <td>42478.1</td>\n",
              "      <td>18.76</td>\n",
              "      <td>18.76</td>\n",
              "      <td>118.38</td>\n",
              "      <td>118.38</td>\n",
              "      <td>1073000000</td>\n",
              "      <td>858400000</td>\n",
              "      <td>2016-12-29 00:00:00</td>\n",
              "      <td>2017-02-02 00:00:00</td>\n",
              "      <td>낙찰</td>\n",
              "      <td>흥국저축은행</td>\n",
              "      <td>부산</td>\n",
              "      <td>해운대구</td>\n",
              "      <td>우동</td>\n",
              "      <td>NaN</td>\n",
              "      <td>N</td>\n",
              "      <td>1407.0</td>\n",
              "      <td>NaN</td>\n",
              "      <td>해운대두산위브더제니스 103동 51층 5103호</td>\n",
              "      <td>아파트</td>\n",
              "      <td>2011-12-16 00:00:00</td>\n",
              "      <td>70</td>\n",
              "      <td>51</td>\n",
              "      <td>NaN</td>\n",
              "      <td>N</td>\n",
              "      <td>마린시티2로</td>\n",
              "      <td>33.0</td>\n",
              "      <td>NaN</td>\n",
              "      <td>2017-03-30 00:00:00</td>\n",
              "      <td>배당</td>\n",
              "      <td>35.156633</td>\n",
              "      <td>129.145068</td>\n",
              "      <td>971889999</td>\n",
              "    </tr>\n",
              "    <tr>\n",
              "      <th>2</th>\n",
              "      <td>2197</td>\n",
              "      <td>임의</td>\n",
              "      <td>개별</td>\n",
              "      <td>11326510</td>\n",
              "      <td>혜림감정</td>\n",
              "      <td>2016-11-22 00:00:00</td>\n",
              "      <td>3</td>\n",
              "      <td>2</td>\n",
              "      <td>149683.1</td>\n",
              "      <td>71.00</td>\n",
              "      <td>71.00</td>\n",
              "      <td>49.94</td>\n",
              "      <td>49.94</td>\n",
              "      <td>119000000</td>\n",
              "      <td>76160000</td>\n",
              "      <td>2017-07-28 00:00:00</td>\n",
              "      <td>2017-10-13 00:00:00</td>\n",
              "      <td>낙찰</td>\n",
              "      <td>국민은행</td>\n",
              "      <td>부산</td>\n",
              "      <td>사상구</td>\n",
              "      <td>모라동</td>\n",
              "      <td>NaN</td>\n",
              "      <td>N</td>\n",
              "      <td>552.0</td>\n",
              "      <td>NaN</td>\n",
              "      <td>백양그린 206동 14층 1403호</td>\n",
              "      <td>아파트</td>\n",
              "      <td>1992-07-31 00:00:00</td>\n",
              "      <td>15</td>\n",
              "      <td>14</td>\n",
              "      <td>NaN</td>\n",
              "      <td>N</td>\n",
              "      <td>모라로110번길</td>\n",
              "      <td>88.0</td>\n",
              "      <td>NaN</td>\n",
              "      <td>2017-12-13 00:00:00</td>\n",
              "      <td>배당</td>\n",
              "      <td>35.184601</td>\n",
              "      <td>128.996765</td>\n",
              "      <td>93399999</td>\n",
              "    </tr>\n",
              "    <tr>\n",
              "      <th>3</th>\n",
              "      <td>2642</td>\n",
              "      <td>임의</td>\n",
              "      <td>일반</td>\n",
              "      <td>183581724</td>\n",
              "      <td>신라감정</td>\n",
              "      <td>2016-12-13 00:00:00</td>\n",
              "      <td>2</td>\n",
              "      <td>1</td>\n",
              "      <td>24405.0</td>\n",
              "      <td>32.98</td>\n",
              "      <td>32.98</td>\n",
              "      <td>84.91</td>\n",
              "      <td>84.91</td>\n",
              "      <td>288400000</td>\n",
              "      <td>230720000</td>\n",
              "      <td>2017-07-20 00:00:00</td>\n",
              "      <td>2017-11-02 00:00:00</td>\n",
              "      <td>낙찰</td>\n",
              "      <td>고려저축은행</td>\n",
              "      <td>부산</td>\n",
              "      <td>남구</td>\n",
              "      <td>대연동</td>\n",
              "      <td>NaN</td>\n",
              "      <td>N</td>\n",
              "      <td>243.0</td>\n",
              "      <td>23.0</td>\n",
              "      <td>대연청구 109동 11층 1102호</td>\n",
              "      <td>아파트</td>\n",
              "      <td>2001-07-13 00:00:00</td>\n",
              "      <td>20</td>\n",
              "      <td>11</td>\n",
              "      <td>NaN</td>\n",
              "      <td>N</td>\n",
              "      <td>황령대로319번가길</td>\n",
              "      <td>110.0</td>\n",
              "      <td>NaN</td>\n",
              "      <td>2017-12-27 00:00:00</td>\n",
              "      <td>배당</td>\n",
              "      <td>35.154180</td>\n",
              "      <td>129.089081</td>\n",
              "      <td>256899000</td>\n",
              "    </tr>\n",
              "    <tr>\n",
              "      <th>4</th>\n",
              "      <td>1958</td>\n",
              "      <td>강제</td>\n",
              "      <td>일반</td>\n",
              "      <td>45887671</td>\n",
              "      <td>나라감정</td>\n",
              "      <td>2016-03-07 00:00:00</td>\n",
              "      <td>2</td>\n",
              "      <td>1</td>\n",
              "      <td>774.0</td>\n",
              "      <td>45.18</td>\n",
              "      <td>45.18</td>\n",
              "      <td>84.96</td>\n",
              "      <td>84.96</td>\n",
              "      <td>170000000</td>\n",
              "      <td>136000000</td>\n",
              "      <td>2016-07-06 00:00:00</td>\n",
              "      <td>2016-08-03 00:00:00</td>\n",
              "      <td>낙찰</td>\n",
              "      <td>Private</td>\n",
              "      <td>부산</td>\n",
              "      <td>사하구</td>\n",
              "      <td>괴정동</td>\n",
              "      <td>NaN</td>\n",
              "      <td>N</td>\n",
              "      <td>399.0</td>\n",
              "      <td>2.0</td>\n",
              "      <td>동조리젠시 7층 703호</td>\n",
              "      <td>아파트</td>\n",
              "      <td>2001-11-27 00:00:00</td>\n",
              "      <td>7</td>\n",
              "      <td>7</td>\n",
              "      <td>NaN</td>\n",
              "      <td>N</td>\n",
              "      <td>오작로</td>\n",
              "      <td>51.0</td>\n",
              "      <td>NaN</td>\n",
              "      <td>2016-10-04 00:00:00</td>\n",
              "      <td>배당</td>\n",
              "      <td>35.099630</td>\n",
              "      <td>128.998874</td>\n",
              "      <td>158660000</td>\n",
              "    </tr>\n",
              "  </tbody>\n",
              "</table>\n",
              "</div>"
            ],
            "text/plain": [
              "   Auction_key Auction_class Bid_class  ...    point.y     point.x Hammer_price\n",
              "0         2687            임의        개별  ...  35.162717  129.137048    760000000\n",
              "1         2577            임의        일반  ...  35.156633  129.145068    971889999\n",
              "2         2197            임의        개별  ...  35.184601  128.996765     93399999\n",
              "3         2642            임의        일반  ...  35.154180  129.089081    256899000\n",
              "4         1958            강제        일반  ...  35.099630  128.998874    158660000\n",
              "\n",
              "[5 rows x 41 columns]"
            ]
          },
          "metadata": {
            "tags": []
          },
          "execution_count": 5
        }
      ]
    },
    {
      "cell_type": "markdown",
      "metadata": {
        "id": "7mdtfIDU4B-2"
      },
      "source": [
        "### **기본 통계학적 정보는 뽑아내자**"
      ]
    },
    {
      "cell_type": "code",
      "metadata": {
        "colab": {
          "base_uri": "https://localhost:8080/",
          "height": 407
        },
        "id": "fHFKQUiMm7T5",
        "outputId": "e86cfa60-48a8-4a0b-f2d3-b3dc3dafeffc"
      },
      "source": [
        "data.describe(include='all')"
      ],
      "execution_count": null,
      "outputs": [
        {
          "output_type": "execute_result",
          "data": {
            "text/html": [
              "<div>\n",
              "<style scoped>\n",
              "    .dataframe tbody tr th:only-of-type {\n",
              "        vertical-align: middle;\n",
              "    }\n",
              "\n",
              "    .dataframe tbody tr th {\n",
              "        vertical-align: top;\n",
              "    }\n",
              "\n",
              "    .dataframe thead th {\n",
              "        text-align: right;\n",
              "    }\n",
              "</style>\n",
              "<table border=\"1\" class=\"dataframe\">\n",
              "  <thead>\n",
              "    <tr style=\"text-align: right;\">\n",
              "      <th></th>\n",
              "      <th>Auction_key</th>\n",
              "      <th>Auction_class</th>\n",
              "      <th>Bid_class</th>\n",
              "      <th>Claim_price</th>\n",
              "      <th>Appraisal_company</th>\n",
              "      <th>Appraisal_date</th>\n",
              "      <th>Auction_count</th>\n",
              "      <th>Auction_miscarriage_count</th>\n",
              "      <th>Total_land_gross_area</th>\n",
              "      <th>Total_land_real_area</th>\n",
              "      <th>Total_land_auction_area</th>\n",
              "      <th>Total_building_area</th>\n",
              "      <th>Total_building_auction_area</th>\n",
              "      <th>Total_appraisal_price</th>\n",
              "      <th>Minimum_sales_price</th>\n",
              "      <th>First_auction_date</th>\n",
              "      <th>Final_auction_date</th>\n",
              "      <th>Final_result</th>\n",
              "      <th>Creditor</th>\n",
              "      <th>addr_do</th>\n",
              "      <th>addr_si</th>\n",
              "      <th>addr_dong</th>\n",
              "      <th>addr_li</th>\n",
              "      <th>addr_san</th>\n",
              "      <th>addr_bunji1</th>\n",
              "      <th>addr_bunji2</th>\n",
              "      <th>addr_etc</th>\n",
              "      <th>Apartment_usage</th>\n",
              "      <th>Preserve_regist_date</th>\n",
              "      <th>Total_floor</th>\n",
              "      <th>Current_floor</th>\n",
              "      <th>Specific</th>\n",
              "      <th>Share_auction_YorN</th>\n",
              "      <th>road_name</th>\n",
              "      <th>road_bunji1</th>\n",
              "      <th>road_bunji2</th>\n",
              "      <th>Close_date</th>\n",
              "      <th>Close_result</th>\n",
              "      <th>point.y</th>\n",
              "      <th>point.x</th>\n",
              "      <th>Hammer_price</th>\n",
              "    </tr>\n",
              "  </thead>\n",
              "  <tbody>\n",
              "    <tr>\n",
              "      <th>count</th>\n",
              "      <td>1933.000000</td>\n",
              "      <td>1933</td>\n",
              "      <td>1933</td>\n",
              "      <td>1.933000e+03</td>\n",
              "      <td>1933</td>\n",
              "      <td>1933</td>\n",
              "      <td>1933.000000</td>\n",
              "      <td>1933.000000</td>\n",
              "      <td>1.933000e+03</td>\n",
              "      <td>1933.000000</td>\n",
              "      <td>1933.000000</td>\n",
              "      <td>1933.000000</td>\n",
              "      <td>1933.000000</td>\n",
              "      <td>1.933000e+03</td>\n",
              "      <td>1.933000e+03</td>\n",
              "      <td>1933</td>\n",
              "      <td>1933</td>\n",
              "      <td>1933</td>\n",
              "      <td>1933</td>\n",
              "      <td>1933</td>\n",
              "      <td>1933</td>\n",
              "      <td>1933</td>\n",
              "      <td>23</td>\n",
              "      <td>1933</td>\n",
              "      <td>1929.000000</td>\n",
              "      <td>889.000000</td>\n",
              "      <td>1933</td>\n",
              "      <td>1933</td>\n",
              "      <td>1933</td>\n",
              "      <td>1933.000000</td>\n",
              "      <td>1933.000000</td>\n",
              "      <td>64</td>\n",
              "      <td>1933</td>\n",
              "      <td>1933</td>\n",
              "      <td>1909.000000</td>\n",
              "      <td>155.000000</td>\n",
              "      <td>1933</td>\n",
              "      <td>1933</td>\n",
              "      <td>1933.000000</td>\n",
              "      <td>1933.000000</td>\n",
              "      <td>1.933000e+03</td>\n",
              "    </tr>\n",
              "    <tr>\n",
              "      <th>unique</th>\n",
              "      <td>NaN</td>\n",
              "      <td>2</td>\n",
              "      <td>3</td>\n",
              "      <td>NaN</td>\n",
              "      <td>238</td>\n",
              "      <td>712</td>\n",
              "      <td>NaN</td>\n",
              "      <td>NaN</td>\n",
              "      <td>NaN</td>\n",
              "      <td>NaN</td>\n",
              "      <td>NaN</td>\n",
              "      <td>NaN</td>\n",
              "      <td>NaN</td>\n",
              "      <td>NaN</td>\n",
              "      <td>NaN</td>\n",
              "      <td>498</td>\n",
              "      <td>405</td>\n",
              "      <td>1</td>\n",
              "      <td>448</td>\n",
              "      <td>2</td>\n",
              "      <td>39</td>\n",
              "      <td>285</td>\n",
              "      <td>9</td>\n",
              "      <td>2</td>\n",
              "      <td>NaN</td>\n",
              "      <td>NaN</td>\n",
              "      <td>1929</td>\n",
              "      <td>2</td>\n",
              "      <td>1256</td>\n",
              "      <td>NaN</td>\n",
              "      <td>NaN</td>\n",
              "      <td>55</td>\n",
              "      <td>2</td>\n",
              "      <td>1038</td>\n",
              "      <td>NaN</td>\n",
              "      <td>NaN</td>\n",
              "      <td>389</td>\n",
              "      <td>2</td>\n",
              "      <td>NaN</td>\n",
              "      <td>NaN</td>\n",
              "      <td>NaN</td>\n",
              "    </tr>\n",
              "    <tr>\n",
              "      <th>top</th>\n",
              "      <td>NaN</td>\n",
              "      <td>임의</td>\n",
              "      <td>일반</td>\n",
              "      <td>NaN</td>\n",
              "      <td>자연감정</td>\n",
              "      <td>2015-08-28 00:00:00</td>\n",
              "      <td>NaN</td>\n",
              "      <td>NaN</td>\n",
              "      <td>NaN</td>\n",
              "      <td>NaN</td>\n",
              "      <td>NaN</td>\n",
              "      <td>NaN</td>\n",
              "      <td>NaN</td>\n",
              "      <td>NaN</td>\n",
              "      <td>NaN</td>\n",
              "      <td>2016-04-26 00:00:00</td>\n",
              "      <td>2016-04-26 00:00:00</td>\n",
              "      <td>낙찰</td>\n",
              "      <td>Private</td>\n",
              "      <td>서울</td>\n",
              "      <td>노원구</td>\n",
              "      <td>상계동</td>\n",
              "      <td>모전리</td>\n",
              "      <td>N</td>\n",
              "      <td>NaN</td>\n",
              "      <td>NaN</td>\n",
              "      <td>1층 101호</td>\n",
              "      <td>아파트</td>\n",
              "      <td>1111-11-11 00:00:00</td>\n",
              "      <td>NaN</td>\n",
              "      <td>NaN</td>\n",
              "      <td>**1차감정: 220,000,000</td>\n",
              "      <td>N</td>\n",
              "      <td>마포대로</td>\n",
              "      <td>NaN</td>\n",
              "      <td>NaN</td>\n",
              "      <td>2016-09-08 00:00:00</td>\n",
              "      <td>배당</td>\n",
              "      <td>NaN</td>\n",
              "      <td>NaN</td>\n",
              "      <td>NaN</td>\n",
              "    </tr>\n",
              "    <tr>\n",
              "      <th>freq</th>\n",
              "      <td>NaN</td>\n",
              "      <td>1439</td>\n",
              "      <td>1796</td>\n",
              "      <td>NaN</td>\n",
              "      <td>33</td>\n",
              "      <td>29</td>\n",
              "      <td>NaN</td>\n",
              "      <td>NaN</td>\n",
              "      <td>NaN</td>\n",
              "      <td>NaN</td>\n",
              "      <td>NaN</td>\n",
              "      <td>NaN</td>\n",
              "      <td>NaN</td>\n",
              "      <td>NaN</td>\n",
              "      <td>NaN</td>\n",
              "      <td>29</td>\n",
              "      <td>19</td>\n",
              "      <td>1933</td>\n",
              "      <td>483</td>\n",
              "      <td>1242</td>\n",
              "      <td>129</td>\n",
              "      <td>52</td>\n",
              "      <td>10</td>\n",
              "      <td>1912</td>\n",
              "      <td>NaN</td>\n",
              "      <td>NaN</td>\n",
              "      <td>3</td>\n",
              "      <td>1656</td>\n",
              "      <td>43</td>\n",
              "      <td>NaN</td>\n",
              "      <td>NaN</td>\n",
              "      <td>5</td>\n",
              "      <td>1854</td>\n",
              "      <td>33</td>\n",
              "      <td>NaN</td>\n",
              "      <td>NaN</td>\n",
              "      <td>37</td>\n",
              "      <td>1921</td>\n",
              "      <td>NaN</td>\n",
              "      <td>NaN</td>\n",
              "      <td>NaN</td>\n",
              "    </tr>\n",
              "    <tr>\n",
              "      <th>mean</th>\n",
              "      <td>1380.271081</td>\n",
              "      <td>NaN</td>\n",
              "      <td>NaN</td>\n",
              "      <td>3.703908e+08</td>\n",
              "      <td>NaN</td>\n",
              "      <td>NaN</td>\n",
              "      <td>1.836006</td>\n",
              "      <td>0.788412</td>\n",
              "      <td>3.458714e+04</td>\n",
              "      <td>42.333802</td>\n",
              "      <td>41.310776</td>\n",
              "      <td>96.417693</td>\n",
              "      <td>94.148810</td>\n",
              "      <td>4.973592e+08</td>\n",
              "      <td>4.155955e+08</td>\n",
              "      <td>NaN</td>\n",
              "      <td>NaN</td>\n",
              "      <td>NaN</td>\n",
              "      <td>NaN</td>\n",
              "      <td>NaN</td>\n",
              "      <td>NaN</td>\n",
              "      <td>NaN</td>\n",
              "      <td>NaN</td>\n",
              "      <td>NaN</td>\n",
              "      <td>601.952307</td>\n",
              "      <td>22.742407</td>\n",
              "      <td>NaN</td>\n",
              "      <td>NaN</td>\n",
              "      <td>NaN</td>\n",
              "      <td>16.980859</td>\n",
              "      <td>8.817900</td>\n",
              "      <td>NaN</td>\n",
              "      <td>NaN</td>\n",
              "      <td>NaN</td>\n",
              "      <td>127.441069</td>\n",
              "      <td>12.748387</td>\n",
              "      <td>NaN</td>\n",
              "      <td>NaN</td>\n",
              "      <td>36.698018</td>\n",
              "      <td>127.731667</td>\n",
              "      <td>4.726901e+08</td>\n",
              "    </tr>\n",
              "    <tr>\n",
              "      <th>std</th>\n",
              "      <td>801.670470</td>\n",
              "      <td>NaN</td>\n",
              "      <td>NaN</td>\n",
              "      <td>1.337869e+09</td>\n",
              "      <td>NaN</td>\n",
              "      <td>NaN</td>\n",
              "      <td>0.938319</td>\n",
              "      <td>0.831715</td>\n",
              "      <td>9.442101e+04</td>\n",
              "      <td>65.274404</td>\n",
              "      <td>65.385900</td>\n",
              "      <td>106.323240</td>\n",
              "      <td>106.845985</td>\n",
              "      <td>7.873851e+08</td>\n",
              "      <td>5.030312e+08</td>\n",
              "      <td>NaN</td>\n",
              "      <td>NaN</td>\n",
              "      <td>NaN</td>\n",
              "      <td>NaN</td>\n",
              "      <td>NaN</td>\n",
              "      <td>NaN</td>\n",
              "      <td>NaN</td>\n",
              "      <td>NaN</td>\n",
              "      <td>NaN</td>\n",
              "      <td>554.119824</td>\n",
              "      <td>67.000807</td>\n",
              "      <td>NaN</td>\n",
              "      <td>NaN</td>\n",
              "      <td>NaN</td>\n",
              "      <td>9.509021</td>\n",
              "      <td>8.044644</td>\n",
              "      <td>NaN</td>\n",
              "      <td>NaN</td>\n",
              "      <td>NaN</td>\n",
              "      <td>188.394217</td>\n",
              "      <td>10.735663</td>\n",
              "      <td>NaN</td>\n",
              "      <td>NaN</td>\n",
              "      <td>1.150269</td>\n",
              "      <td>0.993055</td>\n",
              "      <td>5.574493e+08</td>\n",
              "    </tr>\n",
              "    <tr>\n",
              "      <th>min</th>\n",
              "      <td>1.000000</td>\n",
              "      <td>NaN</td>\n",
              "      <td>NaN</td>\n",
              "      <td>0.000000e+00</td>\n",
              "      <td>NaN</td>\n",
              "      <td>NaN</td>\n",
              "      <td>1.000000</td>\n",
              "      <td>0.000000</td>\n",
              "      <td>0.000000e+00</td>\n",
              "      <td>0.000000</td>\n",
              "      <td>0.000000</td>\n",
              "      <td>9.390000</td>\n",
              "      <td>1.500000</td>\n",
              "      <td>4.285000e+06</td>\n",
              "      <td>4.285000e+06</td>\n",
              "      <td>NaN</td>\n",
              "      <td>NaN</td>\n",
              "      <td>NaN</td>\n",
              "      <td>NaN</td>\n",
              "      <td>NaN</td>\n",
              "      <td>NaN</td>\n",
              "      <td>NaN</td>\n",
              "      <td>NaN</td>\n",
              "      <td>NaN</td>\n",
              "      <td>1.000000</td>\n",
              "      <td>1.000000</td>\n",
              "      <td>NaN</td>\n",
              "      <td>NaN</td>\n",
              "      <td>NaN</td>\n",
              "      <td>3.000000</td>\n",
              "      <td>0.000000</td>\n",
              "      <td>NaN</td>\n",
              "      <td>NaN</td>\n",
              "      <td>NaN</td>\n",
              "      <td>1.000000</td>\n",
              "      <td>1.000000</td>\n",
              "      <td>NaN</td>\n",
              "      <td>NaN</td>\n",
              "      <td>35.051385</td>\n",
              "      <td>126.809393</td>\n",
              "      <td>6.303000e+06</td>\n",
              "    </tr>\n",
              "    <tr>\n",
              "      <th>25%</th>\n",
              "      <td>691.000000</td>\n",
              "      <td>NaN</td>\n",
              "      <td>NaN</td>\n",
              "      <td>7.746112e+07</td>\n",
              "      <td>NaN</td>\n",
              "      <td>NaN</td>\n",
              "      <td>1.000000</td>\n",
              "      <td>0.000000</td>\n",
              "      <td>2.997000e+03</td>\n",
              "      <td>25.870000</td>\n",
              "      <td>24.570000</td>\n",
              "      <td>61.520000</td>\n",
              "      <td>59.970000</td>\n",
              "      <td>2.090000e+08</td>\n",
              "      <td>1.750000e+08</td>\n",
              "      <td>NaN</td>\n",
              "      <td>NaN</td>\n",
              "      <td>NaN</td>\n",
              "      <td>NaN</td>\n",
              "      <td>NaN</td>\n",
              "      <td>NaN</td>\n",
              "      <td>NaN</td>\n",
              "      <td>NaN</td>\n",
              "      <td>NaN</td>\n",
              "      <td>189.000000</td>\n",
              "      <td>1.000000</td>\n",
              "      <td>NaN</td>\n",
              "      <td>NaN</td>\n",
              "      <td>NaN</td>\n",
              "      <td>12.000000</td>\n",
              "      <td>3.000000</td>\n",
              "      <td>NaN</td>\n",
              "      <td>NaN</td>\n",
              "      <td>NaN</td>\n",
              "      <td>24.000000</td>\n",
              "      <td>5.000000</td>\n",
              "      <td>NaN</td>\n",
              "      <td>NaN</td>\n",
              "      <td>35.188590</td>\n",
              "      <td>126.959167</td>\n",
              "      <td>1.975550e+08</td>\n",
              "    </tr>\n",
              "    <tr>\n",
              "      <th>50%</th>\n",
              "      <td>1395.000000</td>\n",
              "      <td>NaN</td>\n",
              "      <td>NaN</td>\n",
              "      <td>1.728143e+08</td>\n",
              "      <td>NaN</td>\n",
              "      <td>NaN</td>\n",
              "      <td>2.000000</td>\n",
              "      <td>1.000000</td>\n",
              "      <td>1.424140e+04</td>\n",
              "      <td>37.510000</td>\n",
              "      <td>36.790000</td>\n",
              "      <td>84.900000</td>\n",
              "      <td>84.860000</td>\n",
              "      <td>3.600000e+08</td>\n",
              "      <td>3.120000e+08</td>\n",
              "      <td>NaN</td>\n",
              "      <td>NaN</td>\n",
              "      <td>NaN</td>\n",
              "      <td>NaN</td>\n",
              "      <td>NaN</td>\n",
              "      <td>NaN</td>\n",
              "      <td>NaN</td>\n",
              "      <td>NaN</td>\n",
              "      <td>NaN</td>\n",
              "      <td>482.000000</td>\n",
              "      <td>5.000000</td>\n",
              "      <td>NaN</td>\n",
              "      <td>NaN</td>\n",
              "      <td>NaN</td>\n",
              "      <td>15.000000</td>\n",
              "      <td>7.000000</td>\n",
              "      <td>NaN</td>\n",
              "      <td>NaN</td>\n",
              "      <td>NaN</td>\n",
              "      <td>57.000000</td>\n",
              "      <td>9.000000</td>\n",
              "      <td>NaN</td>\n",
              "      <td>NaN</td>\n",
              "      <td>37.500862</td>\n",
              "      <td>127.065003</td>\n",
              "      <td>3.544500e+08</td>\n",
              "    </tr>\n",
              "    <tr>\n",
              "      <th>75%</th>\n",
              "      <td>2062.000000</td>\n",
              "      <td>NaN</td>\n",
              "      <td>NaN</td>\n",
              "      <td>3.565089e+08</td>\n",
              "      <td>NaN</td>\n",
              "      <td>NaN</td>\n",
              "      <td>2.000000</td>\n",
              "      <td>1.000000</td>\n",
              "      <td>4.140310e+04</td>\n",
              "      <td>51.790000</td>\n",
              "      <td>51.320000</td>\n",
              "      <td>114.940000</td>\n",
              "      <td>114.850000</td>\n",
              "      <td>5.720000e+08</td>\n",
              "      <td>4.864000e+08</td>\n",
              "      <td>NaN</td>\n",
              "      <td>NaN</td>\n",
              "      <td>NaN</td>\n",
              "      <td>NaN</td>\n",
              "      <td>NaN</td>\n",
              "      <td>NaN</td>\n",
              "      <td>NaN</td>\n",
              "      <td>NaN</td>\n",
              "      <td>NaN</td>\n",
              "      <td>834.000000</td>\n",
              "      <td>18.000000</td>\n",
              "      <td>NaN</td>\n",
              "      <td>NaN</td>\n",
              "      <td>NaN</td>\n",
              "      <td>21.000000</td>\n",
              "      <td>12.000000</td>\n",
              "      <td>NaN</td>\n",
              "      <td>NaN</td>\n",
              "      <td>NaN</td>\n",
              "      <td>145.000000</td>\n",
              "      <td>17.500000</td>\n",
              "      <td>NaN</td>\n",
              "      <td>NaN</td>\n",
              "      <td>37.566116</td>\n",
              "      <td>129.018054</td>\n",
              "      <td>5.599000e+08</td>\n",
              "    </tr>\n",
              "    <tr>\n",
              "      <th>max</th>\n",
              "      <td>2762.000000</td>\n",
              "      <td>NaN</td>\n",
              "      <td>NaN</td>\n",
              "      <td>2.286481e+10</td>\n",
              "      <td>NaN</td>\n",
              "      <td>NaN</td>\n",
              "      <td>13.000000</td>\n",
              "      <td>9.000000</td>\n",
              "      <td>3.511936e+06</td>\n",
              "      <td>2665.840000</td>\n",
              "      <td>2665.840000</td>\n",
              "      <td>4255.070000</td>\n",
              "      <td>4255.070000</td>\n",
              "      <td>2.777500e+10</td>\n",
              "      <td>1.422080e+10</td>\n",
              "      <td>NaN</td>\n",
              "      <td>NaN</td>\n",
              "      <td>NaN</td>\n",
              "      <td>NaN</td>\n",
              "      <td>NaN</td>\n",
              "      <td>NaN</td>\n",
              "      <td>NaN</td>\n",
              "      <td>NaN</td>\n",
              "      <td>NaN</td>\n",
              "      <td>4937.000000</td>\n",
              "      <td>1414.000000</td>\n",
              "      <td>NaN</td>\n",
              "      <td>NaN</td>\n",
              "      <td>NaN</td>\n",
              "      <td>80.000000</td>\n",
              "      <td>65.000000</td>\n",
              "      <td>NaN</td>\n",
              "      <td>NaN</td>\n",
              "      <td>NaN</td>\n",
              "      <td>1716.000000</td>\n",
              "      <td>55.000000</td>\n",
              "      <td>NaN</td>\n",
              "      <td>NaN</td>\n",
              "      <td>37.685575</td>\n",
              "      <td>129.255872</td>\n",
              "      <td>1.515100e+10</td>\n",
              "    </tr>\n",
              "  </tbody>\n",
              "</table>\n",
              "</div>"
            ],
            "text/plain": [
              "        Auction_key Auction_class  ...      point.x  Hammer_price\n",
              "count   1933.000000          1933  ...  1933.000000  1.933000e+03\n",
              "unique          NaN             2  ...          NaN           NaN\n",
              "top             NaN            임의  ...          NaN           NaN\n",
              "freq            NaN          1439  ...          NaN           NaN\n",
              "mean    1380.271081           NaN  ...   127.731667  4.726901e+08\n",
              "std      801.670470           NaN  ...     0.993055  5.574493e+08\n",
              "min        1.000000           NaN  ...   126.809393  6.303000e+06\n",
              "25%      691.000000           NaN  ...   126.959167  1.975550e+08\n",
              "50%     1395.000000           NaN  ...   127.065003  3.544500e+08\n",
              "75%     2062.000000           NaN  ...   129.018054  5.599000e+08\n",
              "max     2762.000000           NaN  ...   129.255872  1.515100e+10\n",
              "\n",
              "[11 rows x 41 columns]"
            ]
          },
          "metadata": {
            "tags": []
          },
          "execution_count": 6
        }
      ]
    },
    {
      "cell_type": "markdown",
      "metadata": {
        "id": "9-4htkA8otFO"
      },
      "source": [
        "## date에 따른 가격 변화 한 번 볼까...?"
      ]
    },
    {
      "cell_type": "code",
      "metadata": {
        "id": "HePiyaUvoxYl"
      },
      "source": [
        "data_date= data[['Appraisal_date','Hammer_price']]"
      ],
      "execution_count": null,
      "outputs": []
    },
    {
      "cell_type": "code",
      "metadata": {
        "colab": {
          "base_uri": "https://localhost:8080/",
          "height": 399
        },
        "id": "r7GmNizdqYVU",
        "outputId": "a87129e5-5899-4d83-b12a-4813f5710778"
      },
      "source": [
        "data_date"
      ],
      "execution_count": null,
      "outputs": [
        {
          "output_type": "execute_result",
          "data": {
            "text/html": [
              "<div>\n",
              "<style scoped>\n",
              "    .dataframe tbody tr th:only-of-type {\n",
              "        vertical-align: middle;\n",
              "    }\n",
              "\n",
              "    .dataframe tbody tr th {\n",
              "        vertical-align: top;\n",
              "    }\n",
              "\n",
              "    .dataframe thead th {\n",
              "        text-align: right;\n",
              "    }\n",
              "</style>\n",
              "<table border=\"1\" class=\"dataframe\">\n",
              "  <thead>\n",
              "    <tr style=\"text-align: right;\">\n",
              "      <th></th>\n",
              "      <th>Appraisal_date</th>\n",
              "      <th>Hammer_price</th>\n",
              "    </tr>\n",
              "  </thead>\n",
              "  <tbody>\n",
              "    <tr>\n",
              "      <th>0</th>\n",
              "      <td>2017-07-26 00:00:00</td>\n",
              "      <td>760000000</td>\n",
              "    </tr>\n",
              "    <tr>\n",
              "      <th>1</th>\n",
              "      <td>2016-09-12 00:00:00</td>\n",
              "      <td>971889999</td>\n",
              "    </tr>\n",
              "    <tr>\n",
              "      <th>2</th>\n",
              "      <td>2016-11-22 00:00:00</td>\n",
              "      <td>93399999</td>\n",
              "    </tr>\n",
              "    <tr>\n",
              "      <th>3</th>\n",
              "      <td>2016-12-13 00:00:00</td>\n",
              "      <td>256899000</td>\n",
              "    </tr>\n",
              "    <tr>\n",
              "      <th>4</th>\n",
              "      <td>2016-03-07 00:00:00</td>\n",
              "      <td>158660000</td>\n",
              "    </tr>\n",
              "    <tr>\n",
              "      <th>...</th>\n",
              "      <td>...</td>\n",
              "      <td>...</td>\n",
              "    </tr>\n",
              "    <tr>\n",
              "      <th>1928</th>\n",
              "      <td>2017-02-16 00:00:00</td>\n",
              "      <td>402500000</td>\n",
              "    </tr>\n",
              "    <tr>\n",
              "      <th>1929</th>\n",
              "      <td>2015-02-21 00:00:00</td>\n",
              "      <td>430234600</td>\n",
              "    </tr>\n",
              "    <tr>\n",
              "      <th>1930</th>\n",
              "      <td>2016-10-21 00:00:00</td>\n",
              "      <td>1118999990</td>\n",
              "    </tr>\n",
              "    <tr>\n",
              "      <th>1931</th>\n",
              "      <td>2016-06-17 00:00:00</td>\n",
              "      <td>403000000</td>\n",
              "    </tr>\n",
              "    <tr>\n",
              "      <th>1932</th>\n",
              "      <td>2015-04-17 00:00:00</td>\n",
              "      <td>686010000</td>\n",
              "    </tr>\n",
              "  </tbody>\n",
              "</table>\n",
              "<p>1933 rows × 2 columns</p>\n",
              "</div>"
            ],
            "text/plain": [
              "           Appraisal_date  Hammer_price\n",
              "0     2017-07-26 00:00:00     760000000\n",
              "1     2016-09-12 00:00:00     971889999\n",
              "2     2016-11-22 00:00:00      93399999\n",
              "3     2016-12-13 00:00:00     256899000\n",
              "4     2016-03-07 00:00:00     158660000\n",
              "...                   ...           ...\n",
              "1928  2017-02-16 00:00:00     402500000\n",
              "1929  2015-02-21 00:00:00     430234600\n",
              "1930  2016-10-21 00:00:00    1118999990\n",
              "1931  2016-06-17 00:00:00     403000000\n",
              "1932  2015-04-17 00:00:00     686010000\n",
              "\n",
              "[1933 rows x 2 columns]"
            ]
          },
          "metadata": {
            "tags": []
          },
          "execution_count": 8
        }
      ]
    },
    {
      "cell_type": "code",
      "metadata": {
        "colab": {
          "base_uri": "https://localhost:8080/",
          "height": 399
        },
        "id": "drEGshclqaQ9",
        "outputId": "afe8d46c-3d1d-47f4-b8ff-d8c85c19ebe8"
      },
      "source": [
        "data_date_sort=data_date.sort_values(by=['Appraisal_date'],axis=0)\n",
        "data_date_sort"
      ],
      "execution_count": null,
      "outputs": [
        {
          "output_type": "execute_result",
          "data": {
            "text/html": [
              "<div>\n",
              "<style scoped>\n",
              "    .dataframe tbody tr th:only-of-type {\n",
              "        vertical-align: middle;\n",
              "    }\n",
              "\n",
              "    .dataframe tbody tr th {\n",
              "        vertical-align: top;\n",
              "    }\n",
              "\n",
              "    .dataframe thead th {\n",
              "        text-align: right;\n",
              "    }\n",
              "</style>\n",
              "<table border=\"1\" class=\"dataframe\">\n",
              "  <thead>\n",
              "    <tr style=\"text-align: right;\">\n",
              "      <th></th>\n",
              "      <th>Appraisal_date</th>\n",
              "      <th>Hammer_price</th>\n",
              "    </tr>\n",
              "  </thead>\n",
              "  <tbody>\n",
              "    <tr>\n",
              "      <th>563</th>\n",
              "      <td>2010-06-27 00:00:00</td>\n",
              "      <td>204888800</td>\n",
              "    </tr>\n",
              "    <tr>\n",
              "      <th>731</th>\n",
              "      <td>2011-12-31 00:00:00</td>\n",
              "      <td>187500000</td>\n",
              "    </tr>\n",
              "    <tr>\n",
              "      <th>830</th>\n",
              "      <td>2012-01-03 00:00:00</td>\n",
              "      <td>541000000</td>\n",
              "    </tr>\n",
              "    <tr>\n",
              "      <th>1415</th>\n",
              "      <td>2012-06-08 00:00:00</td>\n",
              "      <td>453100000</td>\n",
              "    </tr>\n",
              "    <tr>\n",
              "      <th>658</th>\n",
              "      <td>2012-06-11 00:00:00</td>\n",
              "      <td>142630000</td>\n",
              "    </tr>\n",
              "    <tr>\n",
              "      <th>...</th>\n",
              "      <td>...</td>\n",
              "      <td>...</td>\n",
              "    </tr>\n",
              "    <tr>\n",
              "      <th>1907</th>\n",
              "      <td>2017-11-10 00:00:00</td>\n",
              "      <td>36300000</td>\n",
              "    </tr>\n",
              "    <tr>\n",
              "      <th>1891</th>\n",
              "      <td>2017-11-14 00:00:00</td>\n",
              "      <td>1427695990</td>\n",
              "    </tr>\n",
              "    <tr>\n",
              "      <th>1084</th>\n",
              "      <td>2017-11-20 00:00:00</td>\n",
              "      <td>336800000</td>\n",
              "    </tr>\n",
              "    <tr>\n",
              "      <th>1809</th>\n",
              "      <td>2017-11-28 00:00:00</td>\n",
              "      <td>116000000</td>\n",
              "    </tr>\n",
              "    <tr>\n",
              "      <th>1036</th>\n",
              "      <td>2017-12-08 00:00:00</td>\n",
              "      <td>421300100</td>\n",
              "    </tr>\n",
              "  </tbody>\n",
              "</table>\n",
              "<p>1933 rows × 2 columns</p>\n",
              "</div>"
            ],
            "text/plain": [
              "           Appraisal_date  Hammer_price\n",
              "563   2010-06-27 00:00:00     204888800\n",
              "731   2011-12-31 00:00:00     187500000\n",
              "830   2012-01-03 00:00:00     541000000\n",
              "1415  2012-06-08 00:00:00     453100000\n",
              "658   2012-06-11 00:00:00     142630000\n",
              "...                   ...           ...\n",
              "1907  2017-11-10 00:00:00      36300000\n",
              "1891  2017-11-14 00:00:00    1427695990\n",
              "1084  2017-11-20 00:00:00     336800000\n",
              "1809  2017-11-28 00:00:00     116000000\n",
              "1036  2017-12-08 00:00:00     421300100\n",
              "\n",
              "[1933 rows x 2 columns]"
            ]
          },
          "metadata": {
            "tags": []
          },
          "execution_count": 9
        }
      ]
    },
    {
      "cell_type": "code",
      "metadata": {
        "id": "S36tBXpUsm8K"
      },
      "source": [
        "new_date_data = data_date_sort.set_index('Appraisal_date')"
      ],
      "execution_count": null,
      "outputs": []
    },
    {
      "cell_type": "code",
      "metadata": {
        "colab": {
          "base_uri": "https://localhost:8080/",
          "height": 428
        },
        "id": "mcP5dLodrVii",
        "outputId": "06c5c89a-bcca-4f3d-fae4-803f856438aa"
      },
      "source": [
        "new_date_data"
      ],
      "execution_count": null,
      "outputs": [
        {
          "output_type": "execute_result",
          "data": {
            "text/html": [
              "<div>\n",
              "<style scoped>\n",
              "    .dataframe tbody tr th:only-of-type {\n",
              "        vertical-align: middle;\n",
              "    }\n",
              "\n",
              "    .dataframe tbody tr th {\n",
              "        vertical-align: top;\n",
              "    }\n",
              "\n",
              "    .dataframe thead th {\n",
              "        text-align: right;\n",
              "    }\n",
              "</style>\n",
              "<table border=\"1\" class=\"dataframe\">\n",
              "  <thead>\n",
              "    <tr style=\"text-align: right;\">\n",
              "      <th></th>\n",
              "      <th>Hammer_price</th>\n",
              "    </tr>\n",
              "    <tr>\n",
              "      <th>Appraisal_date</th>\n",
              "      <th></th>\n",
              "    </tr>\n",
              "  </thead>\n",
              "  <tbody>\n",
              "    <tr>\n",
              "      <th>2010-06-27 00:00:00</th>\n",
              "      <td>204888800</td>\n",
              "    </tr>\n",
              "    <tr>\n",
              "      <th>2011-12-31 00:00:00</th>\n",
              "      <td>187500000</td>\n",
              "    </tr>\n",
              "    <tr>\n",
              "      <th>2012-01-03 00:00:00</th>\n",
              "      <td>541000000</td>\n",
              "    </tr>\n",
              "    <tr>\n",
              "      <th>2012-06-08 00:00:00</th>\n",
              "      <td>453100000</td>\n",
              "    </tr>\n",
              "    <tr>\n",
              "      <th>2012-06-11 00:00:00</th>\n",
              "      <td>142630000</td>\n",
              "    </tr>\n",
              "    <tr>\n",
              "      <th>...</th>\n",
              "      <td>...</td>\n",
              "    </tr>\n",
              "    <tr>\n",
              "      <th>2017-11-10 00:00:00</th>\n",
              "      <td>36300000</td>\n",
              "    </tr>\n",
              "    <tr>\n",
              "      <th>2017-11-14 00:00:00</th>\n",
              "      <td>1427695990</td>\n",
              "    </tr>\n",
              "    <tr>\n",
              "      <th>2017-11-20 00:00:00</th>\n",
              "      <td>336800000</td>\n",
              "    </tr>\n",
              "    <tr>\n",
              "      <th>2017-11-28 00:00:00</th>\n",
              "      <td>116000000</td>\n",
              "    </tr>\n",
              "    <tr>\n",
              "      <th>2017-12-08 00:00:00</th>\n",
              "      <td>421300100</td>\n",
              "    </tr>\n",
              "  </tbody>\n",
              "</table>\n",
              "<p>1933 rows × 1 columns</p>\n",
              "</div>"
            ],
            "text/plain": [
              "                     Hammer_price\n",
              "Appraisal_date                   \n",
              "2010-06-27 00:00:00     204888800\n",
              "2011-12-31 00:00:00     187500000\n",
              "2012-01-03 00:00:00     541000000\n",
              "2012-06-08 00:00:00     453100000\n",
              "2012-06-11 00:00:00     142630000\n",
              "...                           ...\n",
              "2017-11-10 00:00:00      36300000\n",
              "2017-11-14 00:00:00    1427695990\n",
              "2017-11-20 00:00:00     336800000\n",
              "2017-11-28 00:00:00     116000000\n",
              "2017-12-08 00:00:00     421300100\n",
              "\n",
              "[1933 rows x 1 columns]"
            ]
          },
          "metadata": {
            "tags": []
          },
          "execution_count": 11
        }
      ]
    },
    {
      "cell_type": "code",
      "metadata": {
        "id": "_tAUMCIVs0EJ",
        "colab": {
          "base_uri": "https://localhost:8080/",
          "height": 307
        },
        "outputId": "0376ea04-b978-40f0-b202-7fd0dcb4e7a6"
      },
      "source": [
        "new_date_data['Hammer_price'].plot()"
      ],
      "execution_count": null,
      "outputs": [
        {
          "output_type": "execute_result",
          "data": {
            "text/plain": [
              "<matplotlib.axes._subplots.AxesSubplot at 0x7f988a343490>"
            ]
          },
          "metadata": {
            "tags": []
          },
          "execution_count": 12
        },
        {
          "output_type": "display_data",
          "data": {
            "image/png": "[encoded data removed]",
            "text/plain": [
              "<Figure size 432x288 with 1 Axes>"
            ]
          },
          "metadata": {
            "tags": [],
            "needs_background": "light"
          }
        }
      ]
    },
    {
      "cell_type": "markdown",
      "metadata": {
        "id": "sOpfIm6Z8pA8"
      },
      "source": [
        "뭐 시기에 따라 가격에 크게 차이가 있는 그런 trend가 보이지는 않았다...."
      ]
    },
    {
      "cell_type": "code",
      "metadata": {
        "id": "tBwov2WJ81Hu"
      },
      "source": [
        "data_onehot = pd.get_dummies(data= data, columns = ['Auction_class','Bid_class','Share_auction_YorN','Close_result','addr_si'])"
      ],
      "execution_count": 29,
      "outputs": []
    },
    {
      "cell_type": "markdown",
      "metadata": {
        "id": "LlY9302E9f_x"
      },
      "source": [
        "one-hot 했을때는 설마"
      ]
    },
    {
      "cell_type": "code",
      "metadata": {
        "colab": {
          "base_uri": "https://localhost:8080/"
        },
        "id": "es6dVdp69ff_",
        "outputId": "c7465f10-4d6a-4196-a331-02e1729f7741"
      },
      "source": [
        "data_onehot.corr()[\"Hammer_price\"]"
      ],
      "execution_count": 30,
      "outputs": [
        {
          "output_type": "execute_result",
          "data": {
            "text/plain": [
              "Auction_key                 -0.418769\n",
              "Claim_price                  0.267728\n",
              "Auction_count               -0.016999\n",
              "Auction_miscarriage_count   -0.011296\n",
              "Total_land_gross_area        0.070466\n",
              "                               ...   \n",
              "addr_si_은평구                 -0.041104\n",
              "addr_si_종로구                  0.021263\n",
              "addr_si_중구                  -0.004104\n",
              "addr_si_중랑구                 -0.036585\n",
              "addr_si_해운대구                -0.031886\n",
              "Name: Hammer_price, Length: 68, dtype: float64"
            ]
          },
          "metadata": {
            "tags": []
          },
          "execution_count": 30
        }
      ]
    },
    {
      "cell_type": "markdown",
      "metadata": {
        "id": "ScTPQYlA-Eeq"
      },
      "source": [
        "뭐 상관도 낮은데 걍 binary 한것들이니까 혹시나... box plot 그리자"
      ]
    },
    {
      "cell_type": "code",
      "metadata": {
        "colab": {
          "base_uri": "https://localhost:8080/",
          "height": 1000
        },
        "id": "cTfzsUXTFrdi",
        "outputId": "7f8886b1-e457-4414-9756-03e86e574b88"
      },
      "source": [
        "figure, ax1 = plt.subplots(figsize=(30,30))\n",
        "\n",
        "\n",
        "sns.boxplot(x='addr_si',y=\"Hammer_price\", data = data )"
      ],
      "execution_count": 41,
      "outputs": [
        {
          "output_type": "execute_result",
          "data": {
            "text/plain": [
              "<matplotlib.axes._subplots.AxesSubplot at 0x7f987c93b710>"
            ]
          },
          "metadata": {
            "tags": []
          },
          "execution_count": 41
        },
        {
          "output_type": "display_data",
          "data": {
            "image/png": "[encoded data removed]",
            "text/plain": [
              "<Figure size 2160x2160 with 1 Axes>"
            ]
          },
          "metadata": {
            "tags": [],
            "needs_background": "light"
          }
        }
      ]
    },
    {
      "cell_type": "markdown",
      "metadata": {
        "id": "ySlMBKNsCrUe"
      },
      "source": [
        "Auction Class에 따른 차이가 크겐 안보임.. (확대하면 다를라나"
      ]
    },
    {
      "cell_type": "code",
      "metadata": {
        "colab": {
          "base_uri": "https://localhost:8080/",
          "height": 1000
        },
        "id": "6MoPtsc19sOf",
        "outputId": "5ed41c64-2ded-40f3-cefd-c5946c3fcd0b"
      },
      "source": [
        "figure, ax1 = plt.subplots(figsize=(30,30))\n",
        "\n",
        "\n",
        "sns.boxplot(x='Auction_class',y=\"Hammer_price\", data = data )"
      ],
      "execution_count": 42,
      "outputs": [
        {
          "output_type": "execute_result",
          "data": {
            "text/plain": [
              "<matplotlib.axes._subplots.AxesSubplot at 0x7f987c8ef590>"
            ]
          },
          "metadata": {
            "tags": []
          },
          "execution_count": 42
        },
        {
          "output_type": "display_data",
          "data": {
            "image/png": "[encoded data removed]",
            "text/plain": [
              "<Figure size 2160x2160 with 1 Axes>"
            ]
          },
          "metadata": {
            "tags": [],
            "needs_background": "light"
          }
        }
      ]
    },
    {
      "cell_type": "markdown",
      "metadata": {
        "id": "a4YALwawC0-t"
      },
      "source": [
        "일괄말고는 개별과 일반은 범위가 좀 적네"
      ]
    },
    {
      "cell_type": "code",
      "metadata": {
        "colab": {
          "base_uri": "https://localhost:8080/",
          "height": 1000
        },
        "id": "EU8E477lCvun",
        "outputId": "98bbd14c-4e83-4f5d-a938-36159d491a23"
      },
      "source": [
        "figure, ax1 = plt.subplots(figsize=(30,30))\n",
        "\n",
        "\n",
        "sns.boxplot(x='Bid_class',y=\"Hammer_price\", data = data )"
      ],
      "execution_count": 43,
      "outputs": [
        {
          "output_type": "execute_result",
          "data": {
            "text/plain": [
              "<matplotlib.axes._subplots.AxesSubplot at 0x7f987c4ce290>"
            ]
          },
          "metadata": {
            "tags": []
          },
          "execution_count": 43
        },
        {
          "output_type": "display_data",
          "data": {
            "image/png": "[encoded data removed]",
            "text/plain": [
              "<Figure size 2160x2160 with 1 Axes>"
            ]
          },
          "metadata": {
            "tags": [],
            "needs_background": "light"
          }
        }
      ]
    },
    {
      "cell_type": "markdown",
      "metadata": {
        "id": "w2M-BvM2C-0P"
      },
      "source": [
        "N일때 조금더 높게 보이는데 유의한 수준일런지"
      ]
    },
    {
      "cell_type": "code",
      "metadata": {
        "colab": {
          "base_uri": "https://localhost:8080/",
          "height": 1000
        },
        "id": "8uQV1todC35T",
        "outputId": "645f8e62-102c-403a-88b0-06001494b392"
      },
      "source": [
        "figure, ax1 = plt.subplots(figsize=(30,30))\n",
        "\n",
        "\n",
        "sns.boxplot(x='Share_auction_YorN',y=\"Hammer_price\", data = data )"
      ],
      "execution_count": 44,
      "outputs": [
        {
          "output_type": "execute_result",
          "data": {
            "text/plain": [
              "<matplotlib.axes._subplots.AxesSubplot at 0x7f987c3df8d0>"
            ]
          },
          "metadata": {
            "tags": []
          },
          "execution_count": 44
        },
        {
          "output_type": "display_data",
          "data": {
            "image/png": "[encoded data removed]",
            "text/plain": [
              "<Figure size 2160x2160 with 1 Axes>"
            ]
          },
          "metadata": {
            "tags": [],
            "needs_background": "light"
          }
        }
      ]
    },
    {
      "cell_type": "markdown",
      "metadata": {
        "id": "6F__oeCyDHIj"
      },
      "source": [
        "얘도 크게 차이가 있는지는 모르겠고요"
      ]
    },
    {
      "cell_type": "code",
      "metadata": {
        "colab": {
          "base_uri": "https://localhost:8080/",
          "height": 1000
        },
        "id": "Z2vJ3m7cDCmX",
        "outputId": "5b4b2008-9c24-4b83-f3c1-42b6012fa352"
      },
      "source": [
        "figure, ax1 = plt.subplots(figsize=(30,30))\n",
        "\n",
        "\n",
        "sns.boxplot(x='Close_result',y=\"Hammer_price\", data = data )"
      ],
      "execution_count": 45,
      "outputs": [
        {
          "output_type": "execute_result",
          "data": {
            "text/plain": [
              "<matplotlib.axes._subplots.AxesSubplot at 0x7f987c35ce50>"
            ]
          },
          "metadata": {
            "tags": []
          },
          "execution_count": 45
        },
        {
          "output_type": "display_data",
          "data": {
            "image/png": "[encoded data removed]",
            "text/plain": [
              "<Figure size 2160x2160 with 1 Axes>"
            ]
          },
          "metadata": {
            "tags": [],
            "needs_background": "light"
          }
        }
      ]
    },
    {
      "cell_type": "markdown",
      "metadata": {
        "id": "nHvViOU_Dekr"
      },
      "source": [
        "서울이 더 높아보이긴 한다"
      ]
    },
    {
      "cell_type": "code",
      "metadata": {
        "colab": {
          "base_uri": "https://localhost:8080/",
          "height": 1000
        },
        "id": "A_DQS7AUDJu0",
        "outputId": "dba57cab-9646-4e09-e3ab-c793df65ee13"
      },
      "source": [
        "figure, ax1 = plt.subplots(figsize=(30,30))\n",
        "\n",
        "\n",
        "sns.boxplot(x='addr_do',y=\"Hammer_price\", data = data )"
      ],
      "execution_count": 46,
      "outputs": [
        {
          "output_type": "execute_result",
          "data": {
            "text/plain": [
              "<matplotlib.axes._subplots.AxesSubplot at 0x7f987c2eb050>"
            ]
          },
          "metadata": {
            "tags": []
          },
          "execution_count": 46
        },
        {
          "output_type": "display_data",
          "data": {
            "image/png": "[encoded data removed]",
            "text/plain": [
              "<Figure size 2160x2160 with 1 Axes>"
            ]
          },
          "metadata": {
            "tags": [],
            "needs_background": "light"
          }
        }
      ]
    },
    {
      "cell_type": "markdown",
      "metadata": {
        "id": "kpxjD-BdjGp9"
      },
      "source": [
        "### Correlation 확인\n",
        "\n"
      ]
    },
    {
      "cell_type": "code",
      "metadata": {
        "colab": {
          "base_uri": "https://localhost:8080/"
        },
        "id": "IbyMs8mDhMBd",
        "outputId": "9a4281c4-c41e-49d9-a867-6692719a5b34"
      },
      "source": [
        "data.corr()[\"Hammer_price\"]\n"
      ],
      "execution_count": null,
      "outputs": [
        {
          "output_type": "execute_result",
          "data": {
            "text/plain": [
              "Auction_key                   -0.418769\n",
              "Claim_price                    0.267728\n",
              "Auction_count                 -0.016999\n",
              "Auction_miscarriage_count     -0.011296\n",
              "Total_land_gross_area          0.070466\n",
              "Total_land_real_area           0.696099\n",
              "Total_land_auction_area        0.700639\n",
              "Total_building_area            0.768454\n",
              "Total_building_auction_area    0.772839\n",
              "Total_appraisal_price          0.953464\n",
              "Minimum_sales_price            0.994592\n",
              "addr_bunji1                   -0.003139\n",
              "addr_bunji2                   -0.003641\n",
              "Total_floor                    0.220830\n",
              "Current_floor                  0.198013\n",
              "road_bunji1                    0.020404\n",
              "road_bunji2                    0.206681\n",
              "point.y                        0.295698\n",
              "point.x                       -0.296312\n",
              "Hammer_price                   1.000000\n",
              "Name: Hammer_price, dtype: float64"
            ]
          },
          "metadata": {
            "tags": []
          },
          "execution_count": 16
        }
      ]
    },
    {
      "cell_type": "markdown",
      "metadata": {
        "id": "lw1KFxBUjUep"
      },
      "source": [
        "total_building_area / total_building_auction_area / total_appraisal_price / minimum_sales_price\n",
        "\n",
        "가 0.75 이상의 상관계수를 보여줌 "
      ]
    },
    {
      "cell_type": "markdown",
      "metadata": {
        "id": "A0Q7d1mFk03p"
      },
      "source": [
        "### 결측치 확인"
      ]
    },
    {
      "cell_type": "code",
      "metadata": {
        "colab": {
          "base_uri": "https://localhost:8080/"
        },
        "id": "boqAKJVIjOPK",
        "outputId": "2b87d7d9-46c1-4249-a7fc-0316c2b15dc5"
      },
      "source": [
        "data.isna().sum()"
      ],
      "execution_count": null,
      "outputs": [
        {
          "output_type": "execute_result",
          "data": {
            "text/plain": [
              "Auction_key                       0\n",
              "Auction_class                     0\n",
              "Bid_class                         0\n",
              "Claim_price                       0\n",
              "Appraisal_company                 0\n",
              "Appraisal_date                    0\n",
              "Auction_count                     0\n",
              "Auction_miscarriage_count         0\n",
              "Total_land_gross_area             0\n",
              "Total_land_real_area              0\n",
              "Total_land_auction_area           0\n",
              "Total_building_area               0\n",
              "Total_building_auction_area       0\n",
              "Total_appraisal_price             0\n",
              "Minimum_sales_price               0\n",
              "First_auction_date                0\n",
              "Final_auction_date                0\n",
              "Final_result                      0\n",
              "Creditor                          0\n",
              "addr_do                           0\n",
              "addr_si                           0\n",
              "addr_dong                         0\n",
              "addr_li                        1910\n",
              "addr_san                          0\n",
              "addr_bunji1                       4\n",
              "addr_bunji2                    1044\n",
              "addr_etc                          0\n",
              "Apartment_usage                   0\n",
              "Preserve_regist_date              0\n",
              "Total_floor                       0\n",
              "Current_floor                     0\n",
              "Specific                       1869\n",
              "Share_auction_YorN                0\n",
              "road_name                         0\n",
              "road_bunji1                      24\n",
              "road_bunji2                    1778\n",
              "Close_date                        0\n",
              "Close_result                      0\n",
              "point.y                           0\n",
              "point.x                           0\n",
              "Hammer_price                      0\n",
              "dtype: int64"
            ]
          },
          "metadata": {
            "tags": []
          },
          "execution_count": 17
        }
      ]
    },
    {
      "cell_type": "markdown",
      "metadata": {
        "id": "C155wS-7mk4z"
      },
      "source": [
        "addr_li / addr_bunji2 / Specific / road_bunji2 삭제하는게 나을듯"
      ]
    },
    {
      "cell_type": "markdown",
      "metadata": {
        "id": "le9cx2nqoNmb"
      },
      "source": [
        "위에 언급한 4개 삭제"
      ]
    },
    {
      "cell_type": "code",
      "metadata": {
        "id": "d5PtgnanmvhM"
      },
      "source": [
        "data_1 = data.drop(['addr_li', 'addr_bunji2', 'Specific', 'road_bunji2'],axis='columns')"
      ],
      "execution_count": null,
      "outputs": []
    },
    {
      "cell_type": "markdown",
      "metadata": {
        "id": "x4IEj7TAo9ug"
      },
      "source": [
        "전체 층에서 몇 층인지가 은근 중요하지 않을까...? (조망권 같은거)"
      ]
    },
    {
      "cell_type": "code",
      "metadata": {
        "id": "eS4Y9_WcoGAs"
      },
      "source": [
        "data_1['floor_importance'] = data_1['Current_floor'] / data_1['Total_floor']"
      ],
      "execution_count": null,
      "outputs": []
    },
    {
      "cell_type": "code",
      "metadata": {
        "colab": {
          "base_uri": "https://localhost:8080/"
        },
        "id": "A3ln6iR0pNnk",
        "outputId": "513a10ad-2c07-4a90-ba7d-36bb5c468f6b"
      },
      "source": [
        "data_1.corr()['Hammer_price']"
      ],
      "execution_count": null,
      "outputs": [
        {
          "output_type": "execute_result",
          "data": {
            "text/plain": [
              "Auction_key                   -0.418769\n",
              "Claim_price                    0.267728\n",
              "Auction_count                 -0.016999\n",
              "Auction_miscarriage_count     -0.011296\n",
              "Total_land_gross_area          0.070466\n",
              "Total_land_real_area           0.696099\n",
              "Total_land_auction_area        0.700639\n",
              "Total_building_area            0.768454\n",
              "Total_building_auction_area    0.772839\n",
              "Total_appraisal_price          0.953464\n",
              "Minimum_sales_price            0.994592\n",
              "addr_bunji1                   -0.003139\n",
              "Total_floor                    0.220830\n",
              "Current_floor                  0.198013\n",
              "road_bunji1                    0.020404\n",
              "point.y                        0.295698\n",
              "point.x                       -0.296312\n",
              "Hammer_price                   1.000000\n",
              "floor_importance               0.008581\n",
              "Name: Hammer_price, dtype: float64"
            ]
          },
          "metadata": {
            "tags": []
          },
          "execution_count": 20
        }
      ]
    },
    {
      "cell_type": "markdown",
      "metadata": {
        "id": "iuRW8X52uE1Z"
      },
      "source": [
        "그닥 아니었다 ㅎ"
      ]
    },
    {
      "cell_type": "code",
      "metadata": {
        "colab": {
          "base_uri": "https://localhost:8080/",
          "height": 827
        },
        "id": "wnSTasWtpUd5",
        "outputId": "445d34b8-3eed-410e-efba-be46586ac589"
      },
      "source": [
        "plt.figure(figsize=(20,20))\n",
        "\n",
        "sns.heatmap(data_1.iloc[:,:].corr(),annot=True, annot_kws ={'size' :10} )"
      ],
      "execution_count": null,
      "outputs": [
        {
          "output_type": "stream",
          "text": [
            "/usr/local/lib/python3.7/dist-packages/matplotlib/backends/backend_agg.py:214: RuntimeWarning: Glyph 8722 missing from current font.\n",
            "  font.set_text(s, 0.0, flags=flags)\n",
            "/usr/local/lib/python3.7/dist-packages/matplotlib/backends/backend_agg.py:183: RuntimeWarning: Glyph 8722 missing from current font.\n",
            "  font.set_text(s, 0, flags=flags)\n"
          ],
          "name": "stderr"
        },
        {
          "output_type": "execute_result",
          "data": {
            "text/plain": [
              "<matplotlib.axes._subplots.AxesSubplot at 0x7f988b6f9690>"
            ]
          },
          "metadata": {
            "tags": []
          },
          "execution_count": 21
        },
        {
          "output_type": "display_data",
          "data": {
            "image/png": "[encoded data removed]",
            "text/plain": [
              "<Figure size 1440x1440 with 2 Axes>"
            ]
          },
          "metadata": {
            "tags": [],
            "needs_background": "light"
          }
        }
      ]
    },
    {
      "cell_type": "markdown",
      "metadata": {
        "id": "-1337Lpywj-v"
      },
      "source": [
        "서로 correlation이 높은 x들..."
      ]
    },
    {
      "cell_type": "code",
      "metadata": {
        "colab": {
          "base_uri": "https://localhost:8080/",
          "height": 721
        },
        "id": "1pTiH4ObtFRS",
        "outputId": "83f64598-4dbe-4cc5-a3d9-c57cae4c584d"
      },
      "source": [
        "plt.figure(figsize=(10,10))\n",
        "\n",
        "sns.heatmap(data_1.iloc[:,9:16].corr(),annot=True)"
      ],
      "execution_count": null,
      "outputs": [
        {
          "output_type": "execute_result",
          "data": {
            "text/plain": [
              "<matplotlib.axes._subplots.AxesSubplot at 0x7f98810b57d0>"
            ]
          },
          "metadata": {
            "tags": []
          },
          "execution_count": 22
        },
        {
          "output_type": "display_data",
          "data": {
            "image/png": "[encoded data removed]",
            "text/plain": [
              "<Figure size 720x720 with 2 Axes>"
            ]
          },
          "metadata": {
            "tags": [],
            "needs_background": "light"
          }
        }
      ]
    },
    {
      "cell_type": "markdown",
      "metadata": {
        "id": "soRMdtv01qFx"
      },
      "source": [
        "total_land_real_area 와 Total_land_auction_area는 상관계수가 1이므로 하나 정도는 그냥 날려버리자"
      ]
    },
    {
      "cell_type": "code",
      "metadata": {
        "id": "2btQeispwFOM"
      },
      "source": [
        "data_2 = data_1.drop(['Total_land_real_area'],axis='columns')"
      ],
      "execution_count": null,
      "outputs": []
    },
    {
      "cell_type": "markdown",
      "metadata": {
        "id": "8FoqQthLXkYK"
      },
      "source": [
        "얘네를 하나로 설명할 만한 하나로 만드는게 효력이 있을까....??? (PCA)"
      ]
    },
    {
      "cell_type": "markdown",
      "metadata": {
        "id": "S0_Y2NUY3c5l"
      },
      "source": [
        "남은 5개끼리 PCA라도 돌려볼까"
      ]
    },
    {
      "cell_type": "code",
      "metadata": {
        "colab": {
          "base_uri": "https://localhost:8080/",
          "height": 419
        },
        "id": "0c_31R5a3Fu4",
        "outputId": "ac6b6fa7-319f-4005-f9f5-fdcd0a935e17"
      },
      "source": [
        "data_4pca = data_2.iloc[:,9:14]\n",
        "data_4pca"
      ],
      "execution_count": null,
      "outputs": [
        {
          "output_type": "execute_result",
          "data": {
            "text/html": [
              "<div>\n",
              "<style scoped>\n",
              "    .dataframe tbody tr th:only-of-type {\n",
              "        vertical-align: middle;\n",
              "    }\n",
              "\n",
              "    .dataframe tbody tr th {\n",
              "        vertical-align: top;\n",
              "    }\n",
              "\n",
              "    .dataframe thead th {\n",
              "        text-align: right;\n",
              "    }\n",
              "</style>\n",
              "<table border=\"1\" class=\"dataframe\">\n",
              "  <thead>\n",
              "    <tr style=\"text-align: right;\">\n",
              "      <th></th>\n",
              "      <th>Total_land_auction_area</th>\n",
              "      <th>Total_building_area</th>\n",
              "      <th>Total_building_auction_area</th>\n",
              "      <th>Total_appraisal_price</th>\n",
              "      <th>Minimum_sales_price</th>\n",
              "    </tr>\n",
              "  </thead>\n",
              "  <tbody>\n",
              "    <tr>\n",
              "      <th>0</th>\n",
              "      <td>37.35</td>\n",
              "      <td>181.77</td>\n",
              "      <td>181.77</td>\n",
              "      <td>836000000</td>\n",
              "      <td>668800000</td>\n",
              "    </tr>\n",
              "    <tr>\n",
              "      <th>1</th>\n",
              "      <td>18.76</td>\n",
              "      <td>118.38</td>\n",
              "      <td>118.38</td>\n",
              "      <td>1073000000</td>\n",
              "      <td>858400000</td>\n",
              "    </tr>\n",
              "    <tr>\n",
              "      <th>2</th>\n",
              "      <td>71.00</td>\n",
              "      <td>49.94</td>\n",
              "      <td>49.94</td>\n",
              "      <td>119000000</td>\n",
              "      <td>76160000</td>\n",
              "    </tr>\n",
              "    <tr>\n",
              "      <th>3</th>\n",
              "      <td>32.98</td>\n",
              "      <td>84.91</td>\n",
              "      <td>84.91</td>\n",
              "      <td>288400000</td>\n",
              "      <td>230720000</td>\n",
              "    </tr>\n",
              "    <tr>\n",
              "      <th>4</th>\n",
              "      <td>45.18</td>\n",
              "      <td>84.96</td>\n",
              "      <td>84.96</td>\n",
              "      <td>170000000</td>\n",
              "      <td>136000000</td>\n",
              "    </tr>\n",
              "    <tr>\n",
              "      <th>...</th>\n",
              "      <td>...</td>\n",
              "      <td>...</td>\n",
              "      <td>...</td>\n",
              "      <td>...</td>\n",
              "      <td>...</td>\n",
              "    </tr>\n",
              "    <tr>\n",
              "      <th>1928</th>\n",
              "      <td>40.55</td>\n",
              "      <td>84.87</td>\n",
              "      <td>84.87</td>\n",
              "      <td>401000000</td>\n",
              "      <td>401000000</td>\n",
              "    </tr>\n",
              "    <tr>\n",
              "      <th>1929</th>\n",
              "      <td>39.60</td>\n",
              "      <td>114.81</td>\n",
              "      <td>114.81</td>\n",
              "      <td>454000000</td>\n",
              "      <td>363200000</td>\n",
              "    </tr>\n",
              "    <tr>\n",
              "      <th>1930</th>\n",
              "      <td>19.03</td>\n",
              "      <td>133.98</td>\n",
              "      <td>133.98</td>\n",
              "      <td>1285000000</td>\n",
              "      <td>1028000000</td>\n",
              "    </tr>\n",
              "    <tr>\n",
              "      <th>1931</th>\n",
              "      <td>42.20</td>\n",
              "      <td>84.94</td>\n",
              "      <td>84.94</td>\n",
              "      <td>407000000</td>\n",
              "      <td>325600000</td>\n",
              "    </tr>\n",
              "    <tr>\n",
              "      <th>1932</th>\n",
              "      <td>45.68</td>\n",
              "      <td>102.92</td>\n",
              "      <td>102.92</td>\n",
              "      <td>750000000</td>\n",
              "      <td>600000000</td>\n",
              "    </tr>\n",
              "  </tbody>\n",
              "</table>\n",
              "<p>1933 rows × 5 columns</p>\n",
              "</div>"
            ],
            "text/plain": [
              "      Total_land_auction_area  ...  Minimum_sales_price\n",
              "0                       37.35  ...            668800000\n",
              "1                       18.76  ...            858400000\n",
              "2                       71.00  ...             76160000\n",
              "3                       32.98  ...            230720000\n",
              "4                       45.18  ...            136000000\n",
              "...                       ...  ...                  ...\n",
              "1928                    40.55  ...            401000000\n",
              "1929                    39.60  ...            363200000\n",
              "1930                    19.03  ...           1028000000\n",
              "1931                    42.20  ...            325600000\n",
              "1932                    45.68  ...            600000000\n",
              "\n",
              "[1933 rows x 5 columns]"
            ]
          },
          "metadata": {
            "tags": []
          },
          "execution_count": 24
        }
      ]
    },
    {
      "cell_type": "code",
      "metadata": {
        "id": "1NIc1tfJ3J4t"
      },
      "source": [
        "from sklearn.preprocessing import StandardScaler\n",
        "\n",
        "data_scaled = pd.DataFrame(StandardScaler().fit_transform(data_4pca), columns=data_4pca.columns, index = data_4pca.index)"
      ],
      "execution_count": null,
      "outputs": []
    },
    {
      "cell_type": "code",
      "metadata": {
        "colab": {
          "base_uri": "https://localhost:8080/",
          "height": 214
        },
        "id": "zUxTBg0QZrje",
        "outputId": "bde96b0c-0a44-4dc8-8272-3148bb44751b"
      },
      "source": [
        "data_scaled.cov()"
      ],
      "execution_count": null,
      "outputs": [
        {
          "output_type": "execute_result",
          "data": {
            "text/html": [
              "<div>\n",
              "<style scoped>\n",
              "    .dataframe tbody tr th:only-of-type {\n",
              "        vertical-align: middle;\n",
              "    }\n",
              "\n",
              "    .dataframe tbody tr th {\n",
              "        vertical-align: top;\n",
              "    }\n",
              "\n",
              "    .dataframe thead th {\n",
              "        text-align: right;\n",
              "    }\n",
              "</style>\n",
              "<table border=\"1\" class=\"dataframe\">\n",
              "  <thead>\n",
              "    <tr style=\"text-align: right;\">\n",
              "      <th></th>\n",
              "      <th>Total_land_auction_area</th>\n",
              "      <th>Total_building_area</th>\n",
              "      <th>Total_building_auction_area</th>\n",
              "      <th>Total_appraisal_price</th>\n",
              "      <th>Minimum_sales_price</th>\n",
              "    </tr>\n",
              "  </thead>\n",
              "  <tbody>\n",
              "    <tr>\n",
              "      <th>Total_land_auction_area</th>\n",
              "      <td>1.000518</td>\n",
              "      <td>0.938630</td>\n",
              "      <td>0.942169</td>\n",
              "      <td>0.845680</td>\n",
              "      <td>0.716261</td>\n",
              "    </tr>\n",
              "    <tr>\n",
              "      <th>Total_building_area</th>\n",
              "      <td>0.938630</td>\n",
              "      <td>1.000518</td>\n",
              "      <td>0.994048</td>\n",
              "      <td>0.900768</td>\n",
              "      <td>0.783704</td>\n",
              "    </tr>\n",
              "    <tr>\n",
              "      <th>Total_building_auction_area</th>\n",
              "      <td>0.942169</td>\n",
              "      <td>0.994048</td>\n",
              "      <td>1.000518</td>\n",
              "      <td>0.902455</td>\n",
              "      <td>0.787774</td>\n",
              "    </tr>\n",
              "    <tr>\n",
              "      <th>Total_appraisal_price</th>\n",
              "      <td>0.845680</td>\n",
              "      <td>0.900768</td>\n",
              "      <td>0.902455</td>\n",
              "      <td>1.000518</td>\n",
              "      <td>0.960854</td>\n",
              "    </tr>\n",
              "    <tr>\n",
              "      <th>Minimum_sales_price</th>\n",
              "      <td>0.716261</td>\n",
              "      <td>0.783704</td>\n",
              "      <td>0.787774</td>\n",
              "      <td>0.960854</td>\n",
              "      <td>1.000518</td>\n",
              "    </tr>\n",
              "  </tbody>\n",
              "</table>\n",
              "</div>"
            ],
            "text/plain": [
              "                             Total_land_auction_area  ...  Minimum_sales_price\n",
              "Total_land_auction_area                     1.000518  ...             0.716261\n",
              "Total_building_area                         0.938630  ...             0.783704\n",
              "Total_building_auction_area                 0.942169  ...             0.787774\n",
              "Total_appraisal_price                       0.845680  ...             0.960854\n",
              "Minimum_sales_price                         0.716261  ...             1.000518\n",
              "\n",
              "[5 rows x 5 columns]"
            ]
          },
          "metadata": {
            "tags": []
          },
          "execution_count": 26
        }
      ]
    },
    {
      "cell_type": "code",
      "metadata": {
        "colab": {
          "base_uri": "https://localhost:8080/",
          "height": 214
        },
        "id": "JuX9tlzSZtUd",
        "outputId": "5b72802a-3c90-4818-bbb4-02474de35572"
      },
      "source": [
        "data_scaled.corr()"
      ],
      "execution_count": null,
      "outputs": [
        {
          "output_type": "execute_result",
          "data": {
            "text/html": [
              "<div>\n",
              "<style scoped>\n",
              "    .dataframe tbody tr th:only-of-type {\n",
              "        vertical-align: middle;\n",
              "    }\n",
              "\n",
              "    .dataframe tbody tr th {\n",
              "        vertical-align: top;\n",
              "    }\n",
              "\n",
              "    .dataframe thead th {\n",
              "        text-align: right;\n",
              "    }\n",
              "</style>\n",
              "<table border=\"1\" class=\"dataframe\">\n",
              "  <thead>\n",
              "    <tr style=\"text-align: right;\">\n",
              "      <th></th>\n",
              "      <th>Total_land_auction_area</th>\n",
              "      <th>Total_building_area</th>\n",
              "      <th>Total_building_auction_area</th>\n",
              "      <th>Total_appraisal_price</th>\n",
              "      <th>Minimum_sales_price</th>\n",
              "    </tr>\n",
              "  </thead>\n",
              "  <tbody>\n",
              "    <tr>\n",
              "      <th>Total_land_auction_area</th>\n",
              "      <td>1.000000</td>\n",
              "      <td>0.938144</td>\n",
              "      <td>0.941681</td>\n",
              "      <td>0.845243</td>\n",
              "      <td>0.715891</td>\n",
              "    </tr>\n",
              "    <tr>\n",
              "      <th>Total_building_area</th>\n",
              "      <td>0.938144</td>\n",
              "      <td>1.000000</td>\n",
              "      <td>0.993533</td>\n",
              "      <td>0.900302</td>\n",
              "      <td>0.783299</td>\n",
              "    </tr>\n",
              "    <tr>\n",
              "      <th>Total_building_auction_area</th>\n",
              "      <td>0.941681</td>\n",
              "      <td>0.993533</td>\n",
              "      <td>1.000000</td>\n",
              "      <td>0.901988</td>\n",
              "      <td>0.787366</td>\n",
              "    </tr>\n",
              "    <tr>\n",
              "      <th>Total_appraisal_price</th>\n",
              "      <td>0.845243</td>\n",
              "      <td>0.900302</td>\n",
              "      <td>0.901988</td>\n",
              "      <td>1.000000</td>\n",
              "      <td>0.960357</td>\n",
              "    </tr>\n",
              "    <tr>\n",
              "      <th>Minimum_sales_price</th>\n",
              "      <td>0.715891</td>\n",
              "      <td>0.783299</td>\n",
              "      <td>0.787366</td>\n",
              "      <td>0.960357</td>\n",
              "      <td>1.000000</td>\n",
              "    </tr>\n",
              "  </tbody>\n",
              "</table>\n",
              "</div>"
            ],
            "text/plain": [
              "                             Total_land_auction_area  ...  Minimum_sales_price\n",
              "Total_land_auction_area                     1.000000  ...             0.715891\n",
              "Total_building_area                         0.938144  ...             0.783299\n",
              "Total_building_auction_area                 0.941681  ...             0.787366\n",
              "Total_appraisal_price                       0.845243  ...             0.960357\n",
              "Minimum_sales_price                         0.715891  ...             1.000000\n",
              "\n",
              "[5 rows x 5 columns]"
            ]
          },
          "metadata": {
            "tags": []
          },
          "execution_count": 27
        }
      ]
    },
    {
      "cell_type": "code",
      "metadata": {
        "id": "pE0hTgIDasbz"
      },
      "source": [
        "#PCA 고\n",
        "from sklearn.decomposition import PCA\n",
        "pca = PCA(random_state=2016147006)\n",
        "X_p = pca.fit_transform(data_scaled)"
      ],
      "execution_count": null,
      "outputs": []
    },
    {
      "cell_type": "code",
      "metadata": {
        "colab": {
          "base_uri": "https://localhost:8080/"
        },
        "id": "d9Z4gF35bape",
        "outputId": "f16cc4e7-be78-4f93-9edd-bb57a9da2db2"
      },
      "source": [
        "!pip install factor_analyzer"
      ],
      "execution_count": null,
      "outputs": [
        {
          "output_type": "stream",
          "text": [
            "Collecting factor_analyzer\n",
            "\u001b[?25l  Downloading https://files.pythonhosted.org/packages/44/b5/cbd83484ca6dd4c6562c6d66a6a3a0ecf526e79b2b575b9fb4bf5ad172dd/factor_analyzer-0.3.2.tar.gz (40kB)\n",
            "\r\u001b[K     |████████▏                       | 10kB 15.6MB/s eta 0:00:01\r\u001b[K     |████████████████▍               | 20kB 16.0MB/s eta 0:00:01\r\u001b[K     |████████████████████████▌       | 30kB 13.3MB/s eta 0:00:01\r\u001b[K     |████████████████████████████████| 40kB 4.4MB/s \n",
            "\u001b[?25hRequirement already satisfied: pandas in /usr/local/lib/python3.7/dist-packages (from factor_analyzer) (1.1.5)\n",
            "Requirement already satisfied: scipy in /usr/local/lib/python3.7/dist-packages (from factor_analyzer) (1.4.1)\n",
            "Requirement already satisfied: numpy in /usr/local/lib/python3.7/dist-packages (from factor_analyzer) (1.19.5)\n",
            "Requirement already satisfied: scikit-learn in /usr/local/lib/python3.7/dist-packages (from factor_analyzer) (0.22.2.post1)\n",
            "Requirement already satisfied: python-dateutil>=2.7.3 in /usr/local/lib/python3.7/dist-packages (from pandas->factor_analyzer) (2.8.1)\n",
            "Requirement already satisfied: pytz>=2017.2 in /usr/local/lib/python3.7/dist-packages (from pandas->factor_analyzer) (2018.9)\n",
            "Requirement already satisfied: joblib>=0.11 in /usr/local/lib/python3.7/dist-packages (from scikit-learn->factor_analyzer) (1.0.1)\n",
            "Requirement already satisfied: six>=1.5 in /usr/local/lib/python3.7/dist-packages (from python-dateutil>=2.7.3->pandas->factor_analyzer) (1.15.0)\n",
            "Building wheels for collected packages: factor-analyzer\n",
            "  Building wheel for factor-analyzer (setup.py) ... \u001b[?25l\u001b[?25hdone\n",
            "  Created wheel for factor-analyzer: filename=factor_analyzer-0.3.2-cp37-none-any.whl size=40383 sha256=5734342d74fc1b7f65262a786fcab1f569654bb379c17f4ca2c3706d4d81f94e\n",
            "  Stored in directory: /root/.cache/pip/wheels/4a/d0/57/f1330cb9c80e82d8d05391c74c94ed61ce3f03bf6157f3d6db\n",
            "Successfully built factor-analyzer\n",
            "Installing collected packages: factor-analyzer\n",
            "Successfully installed factor-analyzer-0.3.2\n"
          ],
          "name": "stdout"
        }
      ]
    },
    {
      "cell_type": "code",
      "metadata": {
        "colab": {
          "base_uri": "https://localhost:8080/"
        },
        "id": "K3l-jK-ca6Uj",
        "outputId": "179e795a-76cf-482c-eaa3-0bc5aa50c923"
      },
      "source": [
        "#Eigenvalue\n",
        "from factor_analyzer import FactorAnalyzer\n",
        "\n",
        "fa = FactorAnalyzer(n_factors=data_scaled.shape[1], rotation= None)\n",
        "fa.fit(data_scaled)\n",
        "\n",
        "ev, v = fa.get_eigenvalues()\n",
        "ev"
      ],
      "execution_count": null,
      "outputs": [
        {
          "output_type": "execute_result",
          "data": {
            "text/plain": [
              "array([4.5120747 , 0.39688996, 0.07155905, 0.01320159, 0.00627471])"
            ]
          },
          "metadata": {
            "tags": []
          },
          "execution_count": 30
        }
      ]
    },
    {
      "cell_type": "code",
      "metadata": {
        "colab": {
          "base_uri": "https://localhost:8080/",
          "height": 313
        },
        "id": "YXGkFOahbMjS",
        "outputId": "a808f590-6f9f-45f0-acac-87cd2e67070b"
      },
      "source": [
        "plt.scatter(range(1, data_scaled.shape[1]+1),ev)\n",
        "plt.plot(range(1,data_scaled.shape[1]+1),ev)\n",
        "plt.title('Scree Plot')\n",
        "plt.xlabel('Factors')\n",
        "plt.ylabel('Eigenvalue')\n",
        "plt.grid()\n",
        "plt.show()"
      ],
      "execution_count": null,
      "outputs": [
        {
          "output_type": "stream",
          "text": [
            "findfont: Font family ['NanumGothic'] not found. Falling back to DejaVu Sans.\n"
          ],
          "name": "stderr"
        },
        {
          "output_type": "display_data",
          "data": {
            "image/png": "[encoded data removed]",
            "text/plain": [
              "<Figure size 432x288 with 1 Axes>"
            ]
          },
          "metadata": {
            "tags": [],
            "needs_background": "light"
          }
        }
      ]
    },
    {
      "cell_type": "code",
      "metadata": {
        "colab": {
          "base_uri": "https://localhost:8080/"
        },
        "id": "WtlQlk0IblBv",
        "outputId": "dc73ca02-59f6-45fe-8fd6-eb9204f9bf2e"
      },
      "source": [
        "# 분산 설명 비율\n",
        "each_variance_ratio = pca.explained_variance_ratio_\n",
        "each_variance_ratio #각 PC별 분산 설명 비율"
      ],
      "execution_count": null,
      "outputs": [
        {
          "output_type": "execute_result",
          "data": {
            "text/plain": [
              "array([0.90241494, 0.07937799, 0.01431181, 0.00264032, 0.00125494])"
            ]
          },
          "metadata": {
            "tags": []
          },
          "execution_count": 32
        }
      ]
    },
    {
      "cell_type": "code",
      "metadata": {
        "colab": {
          "base_uri": "https://localhost:8080/"
        },
        "id": "OQsyG66Vbsi4",
        "outputId": "ff777412-9ce3-469c-e2c9-721df1c644eb"
      },
      "source": [
        "# 누적 분산 설명 비율\n",
        "import numpy as np\n",
        "cumsum = np.cumsum(pca.explained_variance_ratio_)\n",
        "\n",
        "pd.Series(np.cumsum(pca.explained_variance_ratio_)) #고유값을 기준으로 설명 가능한 분산 (누적)\n",
        "# 위의 것을 np.cumsum(pca.explained_variance_ratio_) 으로 써도 실행됨."
      ],
      "execution_count": null,
      "outputs": [
        {
          "output_type": "execute_result",
          "data": {
            "text/plain": [
              "0    0.902415\n",
              "1    0.981793\n",
              "2    0.996105\n",
              "3    0.998745\n",
              "4    1.000000\n",
              "dtype: float64"
            ]
          },
          "metadata": {
            "tags": []
          },
          "execution_count": 33
        }
      ]
    },
    {
      "cell_type": "code",
      "metadata": {
        "colab": {
          "base_uri": "https://localhost:8080/",
          "height": 295
        },
        "id": "jKBrcjEKbt_f",
        "outputId": "fb8afde7-bfed-46da-a67c-88c1bf04e067"
      },
      "source": [
        "percent_variance = np.round(pca.explained_variance_ratio_* 100, decimals =2)\n",
        "columns = []\n",
        "for i in range(len(percent_variance)):\n",
        "    columns.append(f'PC{i+1}')\n",
        "\n",
        "ax = plt.bar(x = range(len(percent_variance)), height=percent_variance, tick_label=columns)\n",
        "plt.ylabel('Percentage of Variance Explained (%)')\n",
        "plt.xlabel('Principal Component')\n",
        "plt.title('Variance Explained')\n",
        "plt.show()"
      ],
      "execution_count": null,
      "outputs": [
        {
          "output_type": "display_data",
          "data": {
            "image/png": "[encoded data removed]",
            "text/plain": [
              "<Figure size 432x288 with 1 Axes>"
            ]
          },
          "metadata": {
            "tags": [],
            "needs_background": "light"
          }
        }
      ]
    },
    {
      "cell_type": "code",
      "metadata": {
        "colab": {
          "base_uri": "https://localhost:8080/",
          "height": 194
        },
        "id": "B0DCo2Psb39v",
        "outputId": "039e6803-b53b-4671-d98a-aab6a6e5b4a4"
      },
      "source": [
        "pd.DataFrame(pca.components_[:,:2], \n",
        "             columns = ['PC1','PC2'], \n",
        "             index=data_scaled.columns)"
      ],
      "execution_count": null,
      "outputs": [
        {
          "output_type": "execute_result",
          "data": {
            "text/html": [
              "<div>\n",
              "<style scoped>\n",
              "    .dataframe tbody tr th:only-of-type {\n",
              "        vertical-align: middle;\n",
              "    }\n",
              "\n",
              "    .dataframe tbody tr th {\n",
              "        vertical-align: top;\n",
              "    }\n",
              "\n",
              "    .dataframe thead th {\n",
              "        text-align: right;\n",
              "    }\n",
              "</style>\n",
              "<table border=\"1\" class=\"dataframe\">\n",
              "  <thead>\n",
              "    <tr style=\"text-align: right;\">\n",
              "      <th></th>\n",
              "      <th>PC1</th>\n",
              "      <th>PC2</th>\n",
              "    </tr>\n",
              "  </thead>\n",
              "  <tbody>\n",
              "    <tr>\n",
              "      <th>Total_land_auction_area</th>\n",
              "      <td>0.440983</td>\n",
              "      <td>0.458340</td>\n",
              "    </tr>\n",
              "    <tr>\n",
              "      <th>Total_building_area</th>\n",
              "      <td>0.448332</td>\n",
              "      <td>0.290664</td>\n",
              "    </tr>\n",
              "    <tr>\n",
              "      <th>Total_building_auction_area</th>\n",
              "      <td>0.772310</td>\n",
              "      <td>-0.465766</td>\n",
              "    </tr>\n",
              "    <tr>\n",
              "      <th>Total_appraisal_price</th>\n",
              "      <td>-0.082153</td>\n",
              "      <td>-0.023195</td>\n",
              "    </tr>\n",
              "    <tr>\n",
              "      <th>Minimum_sales_price</th>\n",
              "      <td>0.036328</td>\n",
              "      <td>0.698544</td>\n",
              "    </tr>\n",
              "  </tbody>\n",
              "</table>\n",
              "</div>"
            ],
            "text/plain": [
              "                                  PC1       PC2\n",
              "Total_land_auction_area      0.440983  0.458340\n",
              "Total_building_area          0.448332  0.290664\n",
              "Total_building_auction_area  0.772310 -0.465766\n",
              "Total_appraisal_price       -0.082153 -0.023195\n",
              "Minimum_sales_price          0.036328  0.698544"
            ]
          },
          "metadata": {
            "tags": []
          },
          "execution_count": 35
        }
      ]
    },
    {
      "cell_type": "code",
      "metadata": {
        "colab": {
          "base_uri": "https://localhost:8080/",
          "height": 610
        },
        "id": "iMl_S52pb8pQ",
        "outputId": "f2e5085d-3964-4c2a-f3cf-5c7c0a4073fc"
      },
      "source": [
        "pca_result = pd.DataFrame(pca.components_[:,:2], \n",
        "             columns = ['PC1','PC2'], \n",
        "             index=data_scaled.columns)\n",
        "plt.figure(figsize=(6,10))\n",
        "sns.heatmap(pca_result, cmap=\"Blues\", annot=True, fmt='.2f') #소수 둘째자리까지"
      ],
      "execution_count": null,
      "outputs": [
        {
          "output_type": "execute_result",
          "data": {
            "text/plain": [
              "<matplotlib.axes._subplots.AxesSubplot at 0x7fe0fcdcb6d0>"
            ]
          },
          "metadata": {
            "tags": []
          },
          "execution_count": 36
        },
        {
          "output_type": "display_data",
          "data": {
            "image/png": "[encoded data removed]",
            "text/plain": [
              "<Figure size 432x720 with 2 Axes>"
            ]
          },
          "metadata": {
            "tags": [],
            "needs_background": "light"
          }
        }
      ]
    },
    {
      "cell_type": "code",
      "metadata": {
        "colab": {
          "base_uri": "https://localhost:8080/",
          "height": 399
        },
        "id": "OmEbKllFcKWa",
        "outputId": "37f867e7-f100-4b4a-8ea5-8d6658a8b9ae"
      },
      "source": [
        "X_pp = pd.DataFrame(X_p[:,:2], \n",
        "                    columns = ['PC1','PC2'], \n",
        "                    index = data_scaled.index)\n",
        "X_pp #PCA 이후 만들어진 data (PC1~ PC6로 총 6개 변수로 축소)"
      ],
      "execution_count": null,
      "outputs": [
        {
          "output_type": "execute_result",
          "data": {
            "text/html": [
              "<div>\n",
              "<style scoped>\n",
              "    .dataframe tbody tr th:only-of-type {\n",
              "        vertical-align: middle;\n",
              "    }\n",
              "\n",
              "    .dataframe tbody tr th {\n",
              "        vertical-align: top;\n",
              "    }\n",
              "\n",
              "    .dataframe thead th {\n",
              "        text-align: right;\n",
              "    }\n",
              "</style>\n",
              "<table border=\"1\" class=\"dataframe\">\n",
              "  <thead>\n",
              "    <tr style=\"text-align: right;\">\n",
              "      <th></th>\n",
              "      <th>PC1</th>\n",
              "      <th>PC2</th>\n",
              "    </tr>\n",
              "  </thead>\n",
              "  <tbody>\n",
              "    <tr>\n",
              "      <th>0</th>\n",
              "      <td>1.125741</td>\n",
              "      <td>-0.071411</td>\n",
              "    </tr>\n",
              "    <tr>\n",
              "      <th>1</th>\n",
              "      <td>0.750166</td>\n",
              "      <td>-0.917693</td>\n",
              "    </tr>\n",
              "    <tr>\n",
              "      <th>2</th>\n",
              "      <td>-0.692931</td>\n",
              "      <td>0.610115</td>\n",
              "    </tr>\n",
              "    <tr>\n",
              "      <th>3</th>\n",
              "      <td>-0.421034</td>\n",
              "      <td>0.243037</td>\n",
              "    </tr>\n",
              "    <tr>\n",
              "      <th>4</th>\n",
              "      <td>-0.486025</td>\n",
              "      <td>0.514748</td>\n",
              "    </tr>\n",
              "    <tr>\n",
              "      <th>...</th>\n",
              "      <td>...</td>\n",
              "      <td>...</td>\n",
              "    </tr>\n",
              "    <tr>\n",
              "      <th>1928</th>\n",
              "      <td>-0.162867</td>\n",
              "      <td>0.003050</td>\n",
              "    </tr>\n",
              "    <tr>\n",
              "      <th>1929</th>\n",
              "      <td>0.087711</td>\n",
              "      <td>0.187576</td>\n",
              "    </tr>\n",
              "    <tr>\n",
              "      <th>1930</th>\n",
              "      <td>1.150826</td>\n",
              "      <td>-1.167651</td>\n",
              "    </tr>\n",
              "    <tr>\n",
              "      <th>1931</th>\n",
              "      <td>-0.210605</td>\n",
              "      <td>0.118351</td>\n",
              "    </tr>\n",
              "    <tr>\n",
              "      <th>1932</th>\n",
              "      <td>0.395648</td>\n",
              "      <td>-0.304464</td>\n",
              "    </tr>\n",
              "  </tbody>\n",
              "</table>\n",
              "<p>1933 rows × 2 columns</p>\n",
              "</div>"
            ],
            "text/plain": [
              "           PC1       PC2\n",
              "0     1.125741 -0.071411\n",
              "1     0.750166 -0.917693\n",
              "2    -0.692931  0.610115\n",
              "3    -0.421034  0.243037\n",
              "4    -0.486025  0.514748\n",
              "...        ...       ...\n",
              "1928 -0.162867  0.003050\n",
              "1929  0.087711  0.187576\n",
              "1930  1.150826 -1.167651\n",
              "1931 -0.210605  0.118351\n",
              "1932  0.395648 -0.304464\n",
              "\n",
              "[1933 rows x 2 columns]"
            ]
          },
          "metadata": {
            "tags": []
          },
          "execution_count": 37
        }
      ]
    },
    {
      "cell_type": "code",
      "metadata": {
        "colab": {
          "base_uri": "https://localhost:8080/",
          "height": 283
        },
        "id": "ADnYOFSHcQc6",
        "outputId": "a64efa22-e37a-47ef-d4dd-e952e23ceb01"
      },
      "source": [
        "# Principal Component Pattern Plot 1\n",
        "plt.scatter(x=X_pp['PC1'],y=X_pp['PC2'], c=X_pp.index)"
      ],
      "execution_count": null,
      "outputs": [
        {
          "output_type": "execute_result",
          "data": {
            "text/plain": [
              "<matplotlib.collections.PathCollection at 0x7fe0fcc5acd0>"
            ]
          },
          "metadata": {
            "tags": []
          },
          "execution_count": 38
        },
        {
          "output_type": "display_data",
          "data": {
            "image/png": "[encoded data removed]",
            "text/plain": [
              "<Figure size 432x288 with 1 Axes>"
            ]
          },
          "metadata": {
            "tags": [],
            "needs_background": "light"
          }
        }
      ]
    },
    {
      "cell_type": "markdown",
      "metadata": {
        "id": "GPDGNfx7dppx"
      },
      "source": [
        "아님 FA 해볼까"
      ]
    },
    {
      "cell_type": "code",
      "metadata": {
        "colab": {
          "base_uri": "https://localhost:8080/"
        },
        "id": "DQiYDfFAcS-c",
        "outputId": "f7f85321-9ff2-47c4-e02f-646e2b224b02"
      },
      "source": [
        "from factor_analyzer.factor_analyzer import calculate_bartlett_sphericity\n",
        "chi_square_value, p_value = calculate_bartlett_sphericity(data_scaled)\n",
        "chi_square_value, p_value # p-value < 0.05 --> 귀무가설 기각"
      ],
      "execution_count": null,
      "outputs": [
        {
          "output_type": "execute_result",
          "data": {
            "text/plain": [
              "(22103.97659189923, 0.0)"
            ]
          },
          "metadata": {
            "tags": []
          },
          "execution_count": 39
        }
      ]
    },
    {
      "cell_type": "code",
      "metadata": {
        "colab": {
          "base_uri": "https://localhost:8080/"
        },
        "id": "uM__Y5f9dkjN",
        "outputId": "93a8da80-aca2-4d4d-e571-f0f13f4cc451"
      },
      "source": [
        "from factor_analyzer.factor_analyzer import calculate_kmo\n",
        "kmo_all, kmo_model =calculate_kmo(data_scaled)\n",
        "kmo_model # 0.8 이상이므로 꽤 좋음"
      ],
      "execution_count": null,
      "outputs": [
        {
          "output_type": "execute_result",
          "data": {
            "text/plain": [
              "0.7961203929810252"
            ]
          },
          "metadata": {
            "tags": []
          },
          "execution_count": 40
        }
      ]
    },
    {
      "cell_type": "code",
      "metadata": {
        "colab": {
          "base_uri": "https://localhost:8080/"
        },
        "id": "q_xCURdpdmip",
        "outputId": "45faf499-1b05-4b97-96e2-433c827ae206"
      },
      "source": [
        "fa = FactorAnalyzer(n_factors=2, rotation = \"varimax\")\n",
        "fa.fit(data_scaled)"
      ],
      "execution_count": null,
      "outputs": [
        {
          "output_type": "execute_result",
          "data": {
            "text/plain": [
              "FactorAnalyzer(bounds=(0.005, 1), impute='median', is_corr_matrix=False,\n",
              "               method='minres', n_factors=2, rotation='varimax',\n",
              "               rotation_kwargs={}, use_smc=True)"
            ]
          },
          "metadata": {
            "tags": []
          },
          "execution_count": 41
        }
      ]
    },
    {
      "cell_type": "code",
      "metadata": {
        "colab": {
          "base_uri": "https://localhost:8080/",
          "height": 194
        },
        "id": "VcXCWvKMdsHW",
        "outputId": "32af3f59-cf63-48e6-8874-744ff343cf0b"
      },
      "source": [
        "fa_result_loading = pd.DataFrame(fa.loadings_, \n",
        "                                 columns = ['Factor1', 'Factor2'],\n",
        "                                 index=data_scaled.columns)\n",
        "fa_result_loading"
      ],
      "execution_count": null,
      "outputs": [
        {
          "output_type": "execute_result",
          "data": {
            "text/html": [
              "<div>\n",
              "<style scoped>\n",
              "    .dataframe tbody tr th:only-of-type {\n",
              "        vertical-align: middle;\n",
              "    }\n",
              "\n",
              "    .dataframe tbody tr th {\n",
              "        vertical-align: top;\n",
              "    }\n",
              "\n",
              "    .dataframe thead th {\n",
              "        text-align: right;\n",
              "    }\n",
              "</style>\n",
              "<table border=\"1\" class=\"dataframe\">\n",
              "  <thead>\n",
              "    <tr style=\"text-align: right;\">\n",
              "      <th></th>\n",
              "      <th>Factor1</th>\n",
              "      <th>Factor2</th>\n",
              "    </tr>\n",
              "  </thead>\n",
              "  <tbody>\n",
              "    <tr>\n",
              "      <th>Total_land_auction_area</th>\n",
              "      <td>0.847332</td>\n",
              "      <td>0.418050</td>\n",
              "    </tr>\n",
              "    <tr>\n",
              "      <th>Total_building_area</th>\n",
              "      <td>0.873027</td>\n",
              "      <td>0.476123</td>\n",
              "    </tr>\n",
              "    <tr>\n",
              "      <th>Total_building_auction_area</th>\n",
              "      <td>0.875420</td>\n",
              "      <td>0.478382</td>\n",
              "    </tr>\n",
              "    <tr>\n",
              "      <th>Total_appraisal_price</th>\n",
              "      <td>0.603378</td>\n",
              "      <td>0.787810</td>\n",
              "    </tr>\n",
              "    <tr>\n",
              "      <th>Minimum_sales_price</th>\n",
              "      <td>0.397485</td>\n",
              "      <td>0.914265</td>\n",
              "    </tr>\n",
              "  </tbody>\n",
              "</table>\n",
              "</div>"
            ],
            "text/plain": [
              "                              Factor1   Factor2\n",
              "Total_land_auction_area      0.847332  0.418050\n",
              "Total_building_area          0.873027  0.476123\n",
              "Total_building_auction_area  0.875420  0.478382\n",
              "Total_appraisal_price        0.603378  0.787810\n",
              "Minimum_sales_price          0.397485  0.914265"
            ]
          },
          "metadata": {
            "tags": []
          },
          "execution_count": 42
        }
      ]
    },
    {
      "cell_type": "code",
      "metadata": {
        "colab": {
          "base_uri": "https://localhost:8080/",
          "height": 610
        },
        "id": "pEGsFCpQdwOQ",
        "outputId": "3a2bb43f-b10c-4cae-bf77-b570e4df0c9a"
      },
      "source": [
        "plt.figure(figsize=(6,10))\n",
        "sns.heatmap(fa_result_loading, cmap=\"Blues\", annot=True, fmt='.2f')"
      ],
      "execution_count": null,
      "outputs": [
        {
          "output_type": "execute_result",
          "data": {
            "text/plain": [
              "<matplotlib.axes._subplots.AxesSubplot at 0x7fe0fcc20c90>"
            ]
          },
          "metadata": {
            "tags": []
          },
          "execution_count": 43
        },
        {
          "output_type": "display_data",
          "data": {
            "image/png": "[encoded data removed]",
            "text/plain": [
              "<Figure size 432x720 with 2 Axes>"
            ]
          },
          "metadata": {
            "tags": [],
            "needs_background": "light"
          }
        }
      ]
    },
    {
      "cell_type": "code",
      "metadata": {
        "colab": {
          "base_uri": "https://localhost:8080/"
        },
        "id": "2bMlqCp5dzIf",
        "outputId": "205914db-3e29-4c34-fe68-9560bab473a3"
      },
      "source": [
        "fa = FactorAnalyzer(n_factors=2, rotation = \"varimax\")\n",
        "fa.fit(data_scaled)"
      ],
      "execution_count": null,
      "outputs": [
        {
          "output_type": "execute_result",
          "data": {
            "text/plain": [
              "FactorAnalyzer(bounds=(0.005, 1), impute='median', is_corr_matrix=False,\n",
              "               method='minres', n_factors=2, rotation='varimax',\n",
              "               rotation_kwargs={}, use_smc=True)"
            ]
          },
          "metadata": {
            "tags": []
          },
          "execution_count": 44
        }
      ]
    },
    {
      "cell_type": "code",
      "metadata": {
        "colab": {
          "base_uri": "https://localhost:8080/",
          "height": 194
        },
        "id": "VhqdQ2UleCub",
        "outputId": "72ed4f72-7585-424f-8130-49418fbc7d80"
      },
      "source": [
        "fa_result_loading_final = pd.DataFrame(fa.loadings_, \n",
        "                                       columns = ['Factor1', 'Factor2'],\n",
        "                                       index=data_scaled.columns)\n",
        "fa_result_loading_final"
      ],
      "execution_count": null,
      "outputs": [
        {
          "output_type": "execute_result",
          "data": {
            "text/html": [
              "<div>\n",
              "<style scoped>\n",
              "    .dataframe tbody tr th:only-of-type {\n",
              "        vertical-align: middle;\n",
              "    }\n",
              "\n",
              "    .dataframe tbody tr th {\n",
              "        vertical-align: top;\n",
              "    }\n",
              "\n",
              "    .dataframe thead th {\n",
              "        text-align: right;\n",
              "    }\n",
              "</style>\n",
              "<table border=\"1\" class=\"dataframe\">\n",
              "  <thead>\n",
              "    <tr style=\"text-align: right;\">\n",
              "      <th></th>\n",
              "      <th>Factor1</th>\n",
              "      <th>Factor2</th>\n",
              "    </tr>\n",
              "  </thead>\n",
              "  <tbody>\n",
              "    <tr>\n",
              "      <th>Total_land_auction_area</th>\n",
              "      <td>0.847332</td>\n",
              "      <td>0.418050</td>\n",
              "    </tr>\n",
              "    <tr>\n",
              "      <th>Total_building_area</th>\n",
              "      <td>0.873027</td>\n",
              "      <td>0.476123</td>\n",
              "    </tr>\n",
              "    <tr>\n",
              "      <th>Total_building_auction_area</th>\n",
              "      <td>0.875420</td>\n",
              "      <td>0.478382</td>\n",
              "    </tr>\n",
              "    <tr>\n",
              "      <th>Total_appraisal_price</th>\n",
              "      <td>0.603378</td>\n",
              "      <td>0.787810</td>\n",
              "    </tr>\n",
              "    <tr>\n",
              "      <th>Minimum_sales_price</th>\n",
              "      <td>0.397485</td>\n",
              "      <td>0.914265</td>\n",
              "    </tr>\n",
              "  </tbody>\n",
              "</table>\n",
              "</div>"
            ],
            "text/plain": [
              "                              Factor1   Factor2\n",
              "Total_land_auction_area      0.847332  0.418050\n",
              "Total_building_area          0.873027  0.476123\n",
              "Total_building_auction_area  0.875420  0.478382\n",
              "Total_appraisal_price        0.603378  0.787810\n",
              "Minimum_sales_price          0.397485  0.914265"
            ]
          },
          "metadata": {
            "tags": []
          },
          "execution_count": 45
        }
      ]
    },
    {
      "cell_type": "code",
      "metadata": {
        "colab": {
          "base_uri": "https://localhost:8080/",
          "height": 610
        },
        "id": "8voLhUL1eF0O",
        "outputId": "862bb7b8-c9ae-4944-b5ab-c11480241b31"
      },
      "source": [
        "plt.figure(figsize=(6,10))\n",
        "sns.heatmap(fa_result_loading_final, cmap=\"Blues\", annot=True, fmt='.2f')"
      ],
      "execution_count": null,
      "outputs": [
        {
          "output_type": "execute_result",
          "data": {
            "text/plain": [
              "<matplotlib.axes._subplots.AxesSubplot at 0x7fe0fcb74550>"
            ]
          },
          "metadata": {
            "tags": []
          },
          "execution_count": 46
        },
        {
          "output_type": "display_data",
          "data": {
            "image/png": "[encoded data removed]",
            "text/plain": [
              "<Figure size 432x720 with 2 Axes>"
            ]
          },
          "metadata": {
            "tags": [],
            "needs_background": "light"
          }
        }
      ]
    },
    {
      "cell_type": "code",
      "metadata": {
        "colab": {
          "base_uri": "https://localhost:8080/",
          "height": 135
        },
        "id": "wZYKAqV7eKOz",
        "outputId": "0fa6d678-be62-4ae6-8a8e-b49798b462ab"
      },
      "source": [
        "fa.get_factor_variance()\n",
        "fa_result_fromLoading = pd.DataFrame(fa.get_factor_variance(), columns = ['Factor1', 'Factor2'])\n",
        "fa_result_fromLoading.index = ['SS Loadings', 'Proportion Var', 'Cumulative Var']\n",
        "fa_result_fromLoading"
      ],
      "execution_count": null,
      "outputs": [
        {
          "output_type": "execute_result",
          "data": {
            "text/html": [
              "<div>\n",
              "<style scoped>\n",
              "    .dataframe tbody tr th:only-of-type {\n",
              "        vertical-align: middle;\n",
              "    }\n",
              "\n",
              "    .dataframe tbody tr th {\n",
              "        vertical-align: top;\n",
              "    }\n",
              "\n",
              "    .dataframe thead th {\n",
              "        text-align: right;\n",
              "    }\n",
              "</style>\n",
              "<table border=\"1\" class=\"dataframe\">\n",
              "  <thead>\n",
              "    <tr style=\"text-align: right;\">\n",
              "      <th></th>\n",
              "      <th>Factor1</th>\n",
              "      <th>Factor2</th>\n",
              "    </tr>\n",
              "  </thead>\n",
              "  <tbody>\n",
              "    <tr>\n",
              "      <th>SS Loadings</th>\n",
              "      <td>2.768566</td>\n",
              "      <td>2.086833</td>\n",
              "    </tr>\n",
              "    <tr>\n",
              "      <th>Proportion Var</th>\n",
              "      <td>0.553713</td>\n",
              "      <td>0.417367</td>\n",
              "    </tr>\n",
              "    <tr>\n",
              "      <th>Cumulative Var</th>\n",
              "      <td>0.553713</td>\n",
              "      <td>0.971080</td>\n",
              "    </tr>\n",
              "  </tbody>\n",
              "</table>\n",
              "</div>"
            ],
            "text/plain": [
              "                 Factor1   Factor2\n",
              "SS Loadings     2.768566  2.086833\n",
              "Proportion Var  0.553713  0.417367\n",
              "Cumulative Var  0.553713  0.971080"
            ]
          },
          "metadata": {
            "tags": []
          },
          "execution_count": 47
        }
      ]
    },
    {
      "cell_type": "markdown",
      "metadata": {
        "id": "oypIhTKWeWK-"
      },
      "source": [
        "Factor 1 : 면적에 관련된 Factor\n",
        "\n",
        "Factor 2 : 가격에 관련된 Factor"
      ]
    },
    {
      "cell_type": "code",
      "metadata": {
        "colab": {
          "base_uri": "https://localhost:8080/",
          "height": 399
        },
        "id": "1r6mHevKeN7_",
        "outputId": "823f3299-9319-4354-def4-460e04580341"
      },
      "source": [
        "X_f = fa.fit_transform(data_scaled)\n",
        "X_ff = pd.DataFrame(X_f[:,:2], \n",
        "                    columns = ['Area','Price'], \n",
        "                    index = data_scaled.index)\n",
        "X_ff"
      ],
      "execution_count": null,
      "outputs": [
        {
          "output_type": "execute_result",
          "data": {
            "text/html": [
              "<div>\n",
              "<style scoped>\n",
              "    .dataframe tbody tr th:only-of-type {\n",
              "        vertical-align: middle;\n",
              "    }\n",
              "\n",
              "    .dataframe tbody tr th {\n",
              "        vertical-align: top;\n",
              "    }\n",
              "\n",
              "    .dataframe thead th {\n",
              "        text-align: right;\n",
              "    }\n",
              "</style>\n",
              "<table border=\"1\" class=\"dataframe\">\n",
              "  <thead>\n",
              "    <tr style=\"text-align: right;\">\n",
              "      <th></th>\n",
              "      <th>Area</th>\n",
              "      <th>Price</th>\n",
              "    </tr>\n",
              "  </thead>\n",
              "  <tbody>\n",
              "    <tr>\n",
              "      <th>0</th>\n",
              "      <td>0.776758</td>\n",
              "      <td>0.148704</td>\n",
              "    </tr>\n",
              "    <tr>\n",
              "      <th>1</th>\n",
              "      <td>-0.329771</td>\n",
              "      <td>1.098878</td>\n",
              "    </tr>\n",
              "    <tr>\n",
              "      <th>2</th>\n",
              "      <td>-0.074285</td>\n",
              "      <td>-0.657482</td>\n",
              "    </tr>\n",
              "    <tr>\n",
              "      <th>3</th>\n",
              "      <td>0.151135</td>\n",
              "      <td>-0.463668</td>\n",
              "    </tr>\n",
              "    <tr>\n",
              "      <th>4</th>\n",
              "      <td>0.290147</td>\n",
              "      <td>-0.729535</td>\n",
              "    </tr>\n",
              "    <tr>\n",
              "      <th>...</th>\n",
              "      <td>...</td>\n",
              "      <td>...</td>\n",
              "    </tr>\n",
              "    <tr>\n",
              "      <th>1928</th>\n",
              "      <td>-0.128084</td>\n",
              "      <td>0.009743</td>\n",
              "    </tr>\n",
              "    <tr>\n",
              "      <th>1929</th>\n",
              "      <td>0.348135</td>\n",
              "      <td>-0.280659</td>\n",
              "    </tr>\n",
              "    <tr>\n",
              "      <th>1930</th>\n",
              "      <td>-0.374050</td>\n",
              "      <td>1.479401</td>\n",
              "    </tr>\n",
              "    <tr>\n",
              "      <th>1931</th>\n",
              "      <td>0.012299</td>\n",
              "      <td>-0.190510</td>\n",
              "    </tr>\n",
              "    <tr>\n",
              "      <th>1932</th>\n",
              "      <td>-0.154418</td>\n",
              "      <td>0.473907</td>\n",
              "    </tr>\n",
              "  </tbody>\n",
              "</table>\n",
              "<p>1933 rows × 2 columns</p>\n",
              "</div>"
            ],
            "text/plain": [
              "          Area     Price\n",
              "0     0.776758  0.148704\n",
              "1    -0.329771  1.098878\n",
              "2    -0.074285 -0.657482\n",
              "3     0.151135 -0.463668\n",
              "4     0.290147 -0.729535\n",
              "...        ...       ...\n",
              "1928 -0.128084  0.009743\n",
              "1929  0.348135 -0.280659\n",
              "1930 -0.374050  1.479401\n",
              "1931  0.012299 -0.190510\n",
              "1932 -0.154418  0.473907\n",
              "\n",
              "[1933 rows x 2 columns]"
            ]
          },
          "metadata": {
            "tags": []
          },
          "execution_count": 48
        }
      ]
    },
    {
      "cell_type": "code",
      "metadata": {
        "colab": {
          "base_uri": "https://localhost:8080/",
          "height": 283
        },
        "id": "6-lngOemgEHM",
        "outputId": "88b22c52-f98f-45b5-bf6c-282cc79a3d88"
      },
      "source": [
        "# Score Plot 1\n",
        "plt.scatter(x=X_ff['Area'],y=X_ff['Price'], c=X_ff.index)"
      ],
      "execution_count": null,
      "outputs": [
        {
          "output_type": "execute_result",
          "data": {
            "text/plain": [
              "<matplotlib.collections.PathCollection at 0x7fe0fcce4f90>"
            ]
          },
          "metadata": {
            "tags": []
          },
          "execution_count": 49
        },
        {
          "output_type": "display_data",
          "data": {
            "image/png": "[encoded data removed]",
            "text/plain": [
              "<Figure size 432x288 with 1 Axes>"
            ]
          },
          "metadata": {
            "tags": [],
            "needs_background": "light"
          }
        }
      ]
    },
    {
      "cell_type": "code",
      "metadata": {
        "id": "yH1RFYmMgIre"
      },
      "source": [
        "new_data = pd.concat([X_ff, data_1['Hammer_price']],axis=1)"
      ],
      "execution_count": null,
      "outputs": []
    },
    {
      "cell_type": "code",
      "metadata": {
        "colab": {
          "base_uri": "https://localhost:8080/",
          "height": 399
        },
        "id": "YNjJt3cMhJoz",
        "outputId": "75268579-10b6-4874-dec7-2a407ebcbb15"
      },
      "source": [
        "new_data"
      ],
      "execution_count": null,
      "outputs": [
        {
          "output_type": "execute_result",
          "data": {
            "text/html": [
              "<div>\n",
              "<style scoped>\n",
              "    .dataframe tbody tr th:only-of-type {\n",
              "        vertical-align: middle;\n",
              "    }\n",
              "\n",
              "    .dataframe tbody tr th {\n",
              "        vertical-align: top;\n",
              "    }\n",
              "\n",
              "    .dataframe thead th {\n",
              "        text-align: right;\n",
              "    }\n",
              "</style>\n",
              "<table border=\"1\" class=\"dataframe\">\n",
              "  <thead>\n",
              "    <tr style=\"text-align: right;\">\n",
              "      <th></th>\n",
              "      <th>Area</th>\n",
              "      <th>Price</th>\n",
              "      <th>Hammer_price</th>\n",
              "    </tr>\n",
              "  </thead>\n",
              "  <tbody>\n",
              "    <tr>\n",
              "      <th>0</th>\n",
              "      <td>0.776758</td>\n",
              "      <td>0.148704</td>\n",
              "      <td>760000000</td>\n",
              "    </tr>\n",
              "    <tr>\n",
              "      <th>1</th>\n",
              "      <td>-0.329771</td>\n",
              "      <td>1.098878</td>\n",
              "      <td>971889999</td>\n",
              "    </tr>\n",
              "    <tr>\n",
              "      <th>2</th>\n",
              "      <td>-0.074285</td>\n",
              "      <td>-0.657482</td>\n",
              "      <td>93399999</td>\n",
              "    </tr>\n",
              "    <tr>\n",
              "      <th>3</th>\n",
              "      <td>0.151135</td>\n",
              "      <td>-0.463668</td>\n",
              "      <td>256899000</td>\n",
              "    </tr>\n",
              "    <tr>\n",
              "      <th>4</th>\n",
              "      <td>0.290147</td>\n",
              "      <td>-0.729535</td>\n",
              "      <td>158660000</td>\n",
              "    </tr>\n",
              "    <tr>\n",
              "      <th>...</th>\n",
              "      <td>...</td>\n",
              "      <td>...</td>\n",
              "      <td>...</td>\n",
              "    </tr>\n",
              "    <tr>\n",
              "      <th>1928</th>\n",
              "      <td>-0.128084</td>\n",
              "      <td>0.009743</td>\n",
              "      <td>402500000</td>\n",
              "    </tr>\n",
              "    <tr>\n",
              "      <th>1929</th>\n",
              "      <td>0.348135</td>\n",
              "      <td>-0.280659</td>\n",
              "      <td>430234600</td>\n",
              "    </tr>\n",
              "    <tr>\n",
              "      <th>1930</th>\n",
              "      <td>-0.374050</td>\n",
              "      <td>1.479401</td>\n",
              "      <td>1118999990</td>\n",
              "    </tr>\n",
              "    <tr>\n",
              "      <th>1931</th>\n",
              "      <td>0.012299</td>\n",
              "      <td>-0.190510</td>\n",
              "      <td>403000000</td>\n",
              "    </tr>\n",
              "    <tr>\n",
              "      <th>1932</th>\n",
              "      <td>-0.154418</td>\n",
              "      <td>0.473907</td>\n",
              "      <td>686010000</td>\n",
              "    </tr>\n",
              "  </tbody>\n",
              "</table>\n",
              "<p>1933 rows × 3 columns</p>\n",
              "</div>"
            ],
            "text/plain": [
              "          Area     Price  Hammer_price\n",
              "0     0.776758  0.148704     760000000\n",
              "1    -0.329771  1.098878     971889999\n",
              "2    -0.074285 -0.657482      93399999\n",
              "3     0.151135 -0.463668     256899000\n",
              "4     0.290147 -0.729535     158660000\n",
              "...        ...       ...           ...\n",
              "1928 -0.128084  0.009743     402500000\n",
              "1929  0.348135 -0.280659     430234600\n",
              "1930 -0.374050  1.479401    1118999990\n",
              "1931  0.012299 -0.190510     403000000\n",
              "1932 -0.154418  0.473907     686010000\n",
              "\n",
              "[1933 rows x 3 columns]"
            ]
          },
          "metadata": {
            "tags": []
          },
          "execution_count": 51
        }
      ]
    },
    {
      "cell_type": "code",
      "metadata": {
        "id": "ngvYS7eDhNsr",
        "colab": {
          "base_uri": "https://localhost:8080/"
        },
        "outputId": "f8cced32-ba14-447b-eeb6-fa654cc5cecd"
      },
      "source": [
        "from statsmodels.formula.api import ols"
      ],
      "execution_count": null,
      "outputs": [
        {
          "output_type": "stream",
          "text": [
            "/usr/local/lib/python3.7/dist-packages/statsmodels/tools/_testing.py:19: FutureWarning: pandas.util.testing is deprecated. Use the functions in the public API at pandas.testing instead.\n",
            "  import pandas.util.testing as tm\n"
          ],
          "name": "stderr"
        }
      ]
    },
    {
      "cell_type": "code",
      "metadata": {
        "id": "UV0cM6wEhzXM"
      },
      "source": [
        "res = ols('Hammer_price~Area+Price',data= new_data).fit()"
      ],
      "execution_count": null,
      "outputs": []
    },
    {
      "cell_type": "code",
      "metadata": {
        "colab": {
          "base_uri": "https://localhost:8080/",
          "height": 454
        },
        "id": "Vg20wJ0Sh6ak",
        "outputId": "65df34e3-40f8-4825-e3ba-3511ca21ba60"
      },
      "source": [
        "res.summary()"
      ],
      "execution_count": null,
      "outputs": [
        {
          "output_type": "execute_result",
          "data": {
            "text/html": [
              "<table class=\"simpletable\">\n",
              "<caption>OLS Regression Results</caption>\n",
              "<tr>\n",
              "  <th>Dep. Variable:</th>      <td>Hammer_price</td>   <th>  R-squared:         </th> <td>   0.989</td> \n",
              "</tr>\n",
              "<tr>\n",
              "  <th>Model:</th>                   <td>OLS</td>       <th>  Adj. R-squared:    </th> <td>   0.989</td> \n",
              "</tr>\n",
              "<tr>\n",
              "  <th>Method:</th>             <td>Least Squares</td>  <th>  F-statistic:       </th> <td>8.938e+04</td>\n",
              "</tr>\n",
              "<tr>\n",
              "  <th>Date:</th>             <td>Mon, 24 May 2021</td> <th>  Prob (F-statistic):</th>  <td>  0.00</td>  \n",
              "</tr>\n",
              "<tr>\n",
              "  <th>Time:</th>                 <td>05:56:36</td>     <th>  Log-Likelihood:    </th> <td> -37284.</td> \n",
              "</tr>\n",
              "<tr>\n",
              "  <th>No. Observations:</th>      <td>  1933</td>      <th>  AIC:               </th> <td>7.457e+04</td>\n",
              "</tr>\n",
              "<tr>\n",
              "  <th>Df Residuals:</th>          <td>  1930</td>      <th>  BIC:               </th> <td>7.459e+04</td>\n",
              "</tr>\n",
              "<tr>\n",
              "  <th>Df Model:</th>              <td>     2</td>      <th>                     </th>     <td> </td>    \n",
              "</tr>\n",
              "<tr>\n",
              "  <th>Covariance Type:</th>      <td>nonrobust</td>    <th>                     </th>     <td> </td>    \n",
              "</tr>\n",
              "</table>\n",
              "<table class=\"simpletable\">\n",
              "<tr>\n",
              "      <td></td>         <th>coef</th>     <th>std err</th>      <th>t</th>      <th>P>|t|</th>  <th>[0.025</th>    <th>0.975]</th>  \n",
              "</tr>\n",
              "<tr>\n",
              "  <th>Intercept</th> <td> 4.727e+08</td> <td> 1.31e+06</td> <td>  360.530</td> <td> 0.000</td> <td>  4.7e+08</td> <td> 4.75e+08</td>\n",
              "</tr>\n",
              "<tr>\n",
              "  <th>Area</th>      <td> 2.103e+08</td> <td> 1.32e+06</td> <td>  159.811</td> <td> 0.000</td> <td> 2.08e+08</td> <td> 2.13e+08</td>\n",
              "</tr>\n",
              "<tr>\n",
              "  <th>Price</th>     <td> 5.145e+08</td> <td> 1.32e+06</td> <td>  390.379</td> <td> 0.000</td> <td> 5.12e+08</td> <td> 5.17e+08</td>\n",
              "</tr>\n",
              "</table>\n",
              "<table class=\"simpletable\">\n",
              "<tr>\n",
              "  <th>Omnibus:</th>       <td>1290.220</td> <th>  Durbin-Watson:     </th> <td>   2.035</td> \n",
              "</tr>\n",
              "<tr>\n",
              "  <th>Prob(Omnibus):</th>  <td> 0.000</td>  <th>  Jarque-Bera (JB):  </th> <td>49456.213</td>\n",
              "</tr>\n",
              "<tr>\n",
              "  <th>Skew:</th>           <td> 2.598</td>  <th>  Prob(JB):          </th> <td>    0.00</td> \n",
              "</tr>\n",
              "<tr>\n",
              "  <th>Kurtosis:</th>       <td>27.229</td>  <th>  Cond. No.          </th> <td>    1.01</td> \n",
              "</tr>\n",
              "</table><br/><br/>Warnings:<br/>[1] Standard Errors assume that the covariance matrix of the errors is correctly specified."
            ],
            "text/plain": [
              "<class 'statsmodels.iolib.summary.Summary'>\n",
              "\"\"\"\n",
              "                            OLS Regression Results                            \n",
              "==============================================================================\n",
              "Dep. Variable:           Hammer_price   R-squared:                       0.989\n",
              "Model:                            OLS   Adj. R-squared:                  0.989\n",
              "Method:                 Least Squares   F-statistic:                 8.938e+04\n",
              "Date:                Mon, 24 May 2021   Prob (F-statistic):               0.00\n",
              "Time:                        05:56:36   Log-Likelihood:                -37284.\n",
              "No. Observations:                1933   AIC:                         7.457e+04\n",
              "Df Residuals:                    1930   BIC:                         7.459e+04\n",
              "Df Model:                           2                                         \n",
              "Covariance Type:            nonrobust                                         \n",
              "==============================================================================\n",
              "                 coef    std err          t      P>|t|      [0.025      0.975]\n",
              "------------------------------------------------------------------------------\n",
              "Intercept   4.727e+08   1.31e+06    360.530      0.000     4.7e+08    4.75e+08\n",
              "Area        2.103e+08   1.32e+06    159.811      0.000    2.08e+08    2.13e+08\n",
              "Price       5.145e+08   1.32e+06    390.379      0.000    5.12e+08    5.17e+08\n",
              "==============================================================================\n",
              "Omnibus:                     1290.220   Durbin-Watson:                   2.035\n",
              "Prob(Omnibus):                  0.000   Jarque-Bera (JB):            49456.213\n",
              "Skew:                           2.598   Prob(JB):                         0.00\n",
              "Kurtosis:                      27.229   Cond. No.                         1.01\n",
              "==============================================================================\n",
              "\n",
              "Warnings:\n",
              "[1] Standard Errors assume that the covariance matrix of the errors is correctly specified.\n",
              "\"\"\""
            ]
          },
          "metadata": {
            "tags": []
          },
          "execution_count": 54
        }
      ]
    },
    {
      "cell_type": "markdown",
      "metadata": {
        "id": "bMuzEwk7mY37"
      },
      "source": [
        "모형 설명력이 좀 많이 좋은데....???"
      ]
    },
    {
      "cell_type": "code",
      "metadata": {
        "id": "j8llHzWuh-vO"
      },
      "source": [
        ""
      ],
      "execution_count": null,
      "outputs": []
    }
  ]
}