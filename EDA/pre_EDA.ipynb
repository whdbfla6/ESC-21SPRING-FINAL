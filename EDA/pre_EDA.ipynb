{
 "cells": [
  {
   "cell_type": "code",
   "execution_count": 30,
   "metadata": {},
   "outputs": [],
   "source": [
    "import pandas as pd\n",
    "import seaborn as sns\n",
    "import matplotlib.pyplot as plt\n",
    "plt.rcParams['font.family'] = 'NanumGothic'"
   ]
  },
  {
   "cell_type": "code",
   "execution_count": 2,
   "metadata": {},
   "outputs": [
    {
     "data": {
      "text/html": [
       "<div>\n",
       "<style scoped>\n",
       "    .dataframe tbody tr th:only-of-type {\n",
       "        vertical-align: middle;\n",
       "    }\n",
       "\n",
       "    .dataframe tbody tr th {\n",
       "        vertical-align: top;\n",
       "    }\n",
       "\n",
       "    .dataframe thead th {\n",
       "        text-align: right;\n",
       "    }\n",
       "</style>\n",
       "<table border=\"1\" class=\"dataframe\">\n",
       "  <thead>\n",
       "    <tr style=\"text-align: right;\">\n",
       "      <th></th>\n",
       "      <th>Auction_key</th>\n",
       "      <th>Auction_class</th>\n",
       "      <th>Bid_class</th>\n",
       "      <th>Claim_price</th>\n",
       "      <th>Appraisal_company</th>\n",
       "      <th>Appraisal_date</th>\n",
       "      <th>Auction_count</th>\n",
       "      <th>Auction_miscarriage_count</th>\n",
       "      <th>Total_land_gross_area</th>\n",
       "      <th>Total_land_real_area</th>\n",
       "      <th>...</th>\n",
       "      <th>Specific</th>\n",
       "      <th>Share_auction_YorN</th>\n",
       "      <th>road_name</th>\n",
       "      <th>road_bunji1</th>\n",
       "      <th>road_bunji2</th>\n",
       "      <th>Close_date</th>\n",
       "      <th>Close_result</th>\n",
       "      <th>point.y</th>\n",
       "      <th>point.x</th>\n",
       "      <th>Hammer_price</th>\n",
       "    </tr>\n",
       "  </thead>\n",
       "  <tbody>\n",
       "    <tr>\n",
       "      <th>0</th>\n",
       "      <td>2687</td>\n",
       "      <td>임의</td>\n",
       "      <td>개별</td>\n",
       "      <td>1766037301</td>\n",
       "      <td>정명감정</td>\n",
       "      <td>2017-07-26 00:00:00</td>\n",
       "      <td>2</td>\n",
       "      <td>1</td>\n",
       "      <td>12592.0</td>\n",
       "      <td>37.35</td>\n",
       "      <td>...</td>\n",
       "      <td>NaN</td>\n",
       "      <td>N</td>\n",
       "      <td>해운대해변로</td>\n",
       "      <td>30.0</td>\n",
       "      <td>NaN</td>\n",
       "      <td>2018-06-14 00:00:00</td>\n",
       "      <td>배당</td>\n",
       "      <td>35.162717</td>\n",
       "      <td>129.137048</td>\n",
       "      <td>760000000</td>\n",
       "    </tr>\n",
       "    <tr>\n",
       "      <th>1</th>\n",
       "      <td>2577</td>\n",
       "      <td>임의</td>\n",
       "      <td>일반</td>\n",
       "      <td>152946867</td>\n",
       "      <td>희감정</td>\n",
       "      <td>2016-09-12 00:00:00</td>\n",
       "      <td>2</td>\n",
       "      <td>1</td>\n",
       "      <td>42478.1</td>\n",
       "      <td>18.76</td>\n",
       "      <td>...</td>\n",
       "      <td>NaN</td>\n",
       "      <td>N</td>\n",
       "      <td>마린시티2로</td>\n",
       "      <td>33.0</td>\n",
       "      <td>NaN</td>\n",
       "      <td>2017-03-30 00:00:00</td>\n",
       "      <td>배당</td>\n",
       "      <td>35.156633</td>\n",
       "      <td>129.145068</td>\n",
       "      <td>971889999</td>\n",
       "    </tr>\n",
       "    <tr>\n",
       "      <th>2</th>\n",
       "      <td>2197</td>\n",
       "      <td>임의</td>\n",
       "      <td>개별</td>\n",
       "      <td>11326510</td>\n",
       "      <td>혜림감정</td>\n",
       "      <td>2016-11-22 00:00:00</td>\n",
       "      <td>3</td>\n",
       "      <td>2</td>\n",
       "      <td>149683.1</td>\n",
       "      <td>71.00</td>\n",
       "      <td>...</td>\n",
       "      <td>NaN</td>\n",
       "      <td>N</td>\n",
       "      <td>모라로110번길</td>\n",
       "      <td>88.0</td>\n",
       "      <td>NaN</td>\n",
       "      <td>2017-12-13 00:00:00</td>\n",
       "      <td>배당</td>\n",
       "      <td>35.184601</td>\n",
       "      <td>128.996765</td>\n",
       "      <td>93399999</td>\n",
       "    </tr>\n",
       "    <tr>\n",
       "      <th>3</th>\n",
       "      <td>2642</td>\n",
       "      <td>임의</td>\n",
       "      <td>일반</td>\n",
       "      <td>183581724</td>\n",
       "      <td>신라감정</td>\n",
       "      <td>2016-12-13 00:00:00</td>\n",
       "      <td>2</td>\n",
       "      <td>1</td>\n",
       "      <td>24405.0</td>\n",
       "      <td>32.98</td>\n",
       "      <td>...</td>\n",
       "      <td>NaN</td>\n",
       "      <td>N</td>\n",
       "      <td>황령대로319번가길</td>\n",
       "      <td>110.0</td>\n",
       "      <td>NaN</td>\n",
       "      <td>2017-12-27 00:00:00</td>\n",
       "      <td>배당</td>\n",
       "      <td>35.154180</td>\n",
       "      <td>129.089081</td>\n",
       "      <td>256899000</td>\n",
       "    </tr>\n",
       "    <tr>\n",
       "      <th>4</th>\n",
       "      <td>1958</td>\n",
       "      <td>강제</td>\n",
       "      <td>일반</td>\n",
       "      <td>45887671</td>\n",
       "      <td>나라감정</td>\n",
       "      <td>2016-03-07 00:00:00</td>\n",
       "      <td>2</td>\n",
       "      <td>1</td>\n",
       "      <td>774.0</td>\n",
       "      <td>45.18</td>\n",
       "      <td>...</td>\n",
       "      <td>NaN</td>\n",
       "      <td>N</td>\n",
       "      <td>오작로</td>\n",
       "      <td>51.0</td>\n",
       "      <td>NaN</td>\n",
       "      <td>2016-10-04 00:00:00</td>\n",
       "      <td>배당</td>\n",
       "      <td>35.099630</td>\n",
       "      <td>128.998874</td>\n",
       "      <td>158660000</td>\n",
       "    </tr>\n",
       "  </tbody>\n",
       "</table>\n",
       "<p>5 rows × 41 columns</p>\n",
       "</div>"
      ],
      "text/plain": [
       "   Auction_key Auction_class Bid_class  Claim_price Appraisal_company  \\\n",
       "0         2687            임의        개별   1766037301              정명감정   \n",
       "1         2577            임의        일반    152946867               희감정   \n",
       "2         2197            임의        개별     11326510              혜림감정   \n",
       "3         2642            임의        일반    183581724              신라감정   \n",
       "4         1958            강제        일반     45887671              나라감정   \n",
       "\n",
       "        Appraisal_date  Auction_count  Auction_miscarriage_count  \\\n",
       "0  2017-07-26 00:00:00              2                          1   \n",
       "1  2016-09-12 00:00:00              2                          1   \n",
       "2  2016-11-22 00:00:00              3                          2   \n",
       "3  2016-12-13 00:00:00              2                          1   \n",
       "4  2016-03-07 00:00:00              2                          1   \n",
       "\n",
       "   Total_land_gross_area  Total_land_real_area  ...  Specific  \\\n",
       "0                12592.0                 37.35  ...       NaN   \n",
       "1                42478.1                 18.76  ...       NaN   \n",
       "2               149683.1                 71.00  ...       NaN   \n",
       "3                24405.0                 32.98  ...       NaN   \n",
       "4                  774.0                 45.18  ...       NaN   \n",
       "\n",
       "   Share_auction_YorN   road_name  road_bunji1  road_bunji2  \\\n",
       "0                   N      해운대해변로         30.0          NaN   \n",
       "1                   N      마린시티2로         33.0          NaN   \n",
       "2                   N    모라로110번길         88.0          NaN   \n",
       "3                   N  황령대로319번가길        110.0          NaN   \n",
       "4                   N         오작로         51.0          NaN   \n",
       "\n",
       "            Close_date Close_result    point.y     point.x Hammer_price  \n",
       "0  2018-06-14 00:00:00           배당  35.162717  129.137048    760000000  \n",
       "1  2017-03-30 00:00:00           배당  35.156633  129.145068    971889999  \n",
       "2  2017-12-13 00:00:00           배당  35.184601  128.996765     93399999  \n",
       "3  2017-12-27 00:00:00           배당  35.154180  129.089081    256899000  \n",
       "4  2016-10-04 00:00:00           배당  35.099630  128.998874    158660000  \n",
       "\n",
       "[5 rows x 41 columns]"
      ]
     },
     "execution_count": 2,
     "metadata": {},
     "output_type": "execute_result"
    }
   ],
   "source": [
    "data = pd.read_csv(\"Auction_master_train.csv\")\n",
    "data.head()"
   ]
  },
  {
   "cell_type": "code",
   "execution_count": 5,
   "metadata": {},
   "outputs": [
    {
     "data": {
      "text/plain": [
       "(1933, 41)"
      ]
     },
     "execution_count": 5,
     "metadata": {},
     "output_type": "execute_result"
    }
   ],
   "source": [
    "data.shape"
   ]
  },
  {
   "cell_type": "markdown",
   "metadata": {},
   "source": [
    "1. correlation 파악"
   ]
  },
  {
   "cell_type": "code",
   "execution_count": 13,
   "metadata": {},
   "outputs": [
    {
     "data": {
      "text/plain": [
       "Auction_key                   -0.418769\n",
       "Claim_price                    0.267728\n",
       "Auction_count                 -0.016999\n",
       "Auction_miscarriage_count     -0.011296\n",
       "Total_land_gross_area          0.070466\n",
       "Total_land_real_area           0.696099\n",
       "Total_land_auction_area        0.700639\n",
       "Total_building_area            0.768454\n",
       "Total_building_auction_area    0.772839\n",
       "Total_appraisal_price          0.953464\n",
       "Minimum_sales_price            0.994592\n",
       "addr_bunji1                   -0.003139\n",
       "addr_bunji2                   -0.003641\n",
       "Total_floor                    0.220830\n",
       "Current_floor                  0.198013\n",
       "road_bunji1                    0.020404\n",
       "road_bunji2                    0.206681\n",
       "point.y                        0.295698\n",
       "point.x                       -0.296312\n",
       "Hammer_price                   1.000000\n",
       "Name: Hammer_price, dtype: float64"
      ]
     },
     "execution_count": 13,
     "metadata": {},
     "output_type": "execute_result"
    }
   ],
   "source": [
    "data.corr()['Hammer_price']"
   ]
  },
  {
   "cell_type": "markdown",
   "metadata": {},
   "source": [
    "- 총감정가, 최저매각가격(입찰 시 입찰인이 최저로 제시해야 하는 금액) 변수와 y변수인 Hammer_price의 상관관계가 과하게 크다) \n",
    "- x변수 그대로 사용하면 다른 변수의 영향력이 없어질 것으로 보임\n",
    "- 어떻게 처리할 것인가..?"
   ]
  },
  {
   "cell_type": "code",
   "execution_count": 42,
   "metadata": {},
   "outputs": [
    {
     "data": {
      "text/plain": [
       "Index(['Auction_key', 'Auction_class', 'Bid_class', 'Claim_price',\n",
       "       'Appraisal_company', 'Appraisal_date', 'Auction_count',\n",
       "       'Auction_miscarriage_count', 'Total_land_gross_area',\n",
       "       'Total_land_real_area', 'Total_land_auction_area',\n",
       "       'Total_building_area', 'Total_building_auction_area',\n",
       "       'Total_appraisal_price', 'Minimum_sales_price', 'First_auction_date',\n",
       "       'Final_auction_date', 'Final_result', 'Creditor', 'addr_do', 'addr_si',\n",
       "       'addr_dong', 'addr_li', 'addr_san', 'addr_bunji1', 'addr_bunji2',\n",
       "       'addr_etc', 'Apartment_usage', 'Preserve_regist_date', 'Total_floor',\n",
       "       'Current_floor', 'Specific', 'Share_auction_YorN', 'road_name',\n",
       "       'road_bunji1', 'road_bunji2', 'Close_date', 'Close_result', 'point.y',\n",
       "       'point.x', 'Hammer_price'],\n",
       "      dtype='object')"
      ]
     },
     "execution_count": 42,
     "metadata": {},
     "output_type": "execute_result"
    }
   ],
   "source": [
    "data.columns"
   ]
  },
  {
   "cell_type": "markdown",
   "metadata": {},
   "source": [
    "면적 관련 변수들의 correlation을 살펴보자"
   ]
  },
  {
   "cell_type": "code",
   "execution_count": 48,
   "metadata": {},
   "outputs": [
    {
     "data": {
      "text/plain": [
       "<matplotlib.axes._subplots.AxesSubplot at 0x1aaf5fd6eb0>"
      ]
     },
     "execution_count": 48,
     "metadata": {},
     "output_type": "execute_result"
    },
    {
     "data": {
      "image/png": "[encoded data removed]",
      "text/plain": [
       "<Figure size 432x288 with 2 Axes>"
      ]
     },
     "metadata": {
      "needs_background": "light"
     },
     "output_type": "display_data"
    }
   ],
   "source": [
    "sns.heatmap(data.iloc[:,8:13].corr(),annot=True,cmap='YlGnBu')"
   ]
  },
  {
   "cell_type": "markdown",
   "metadata": {},
   "source": [
    "- 해석력 유지할려면 떨궈서 총건물경매면적, 총토지전체면적 변수만 사용\n",
    "- FA 방법 사용해서 차원 축소하자(공분산 행렬의 구조를 유지하면서 잠재변수를 찾아서 차원축소하는 방법, 유사한 변수끼리 묶어준다)"
   ]
  },
  {
   "cell_type": "markdown",
   "metadata": {},
   "source": [
    "2. 이상치 제거(시군구 별로 box plot을 살펴보자)"
   ]
  },
  {
   "cell_type": "code",
   "execution_count": 32,
   "metadata": {},
   "outputs": [
    {
     "data": {
      "text/plain": [
       "array(['부산', '서울'], dtype=object)"
      ]
     },
     "execution_count": 32,
     "metadata": {},
     "output_type": "execute_result"
    }
   ],
   "source": [
    "data['addr_do'].unique() #시 도"
   ]
  },
  {
   "cell_type": "code",
   "execution_count": 31,
   "metadata": {},
   "outputs": [
    {
     "data": {
      "text/plain": [
       "<matplotlib.axes._subplots.AxesSubplot at 0x1aaf5544dc0>"
      ]
     },
     "execution_count": 31,
     "metadata": {},
     "output_type": "execute_result"
    },
    {
     "data": {
      "image/png": "[encoded data removed]",
      "text/plain": [
       "<Figure size 1440x360 with 1 Axes>"
      ]
     },
     "metadata": {
      "needs_background": "light"
     },
     "output_type": "display_data"
    }
   ],
   "source": [
    "figure,ax1 = plt.subplots()\n",
    "figure.set_size_inches(20,5)\n",
    "\n",
    "sns.boxplot(x='addr_si',y='Hammer_price',data=data)"
   ]
  },
  {
   "cell_type": "markdown",
   "metadata": {},
   "source": [
    "시군구 별로 이상치 제거의 필요성이 보임"
   ]
  },
  {
   "cell_type": "markdown",
   "metadata": {},
   "source": [
    "3. 카테고리 변수 처리"
   ]
  },
  {
   "cell_type": "code",
   "execution_count": 51,
   "metadata": {},
   "outputs": [
    {
     "name": "stdout",
     "output_type": "stream",
     "text": [
      "<class 'pandas.core.frame.DataFrame'>\n",
      "RangeIndex: 1933 entries, 0 to 1932\n",
      "Data columns (total 41 columns):\n",
      " #   Column                       Non-Null Count  Dtype  \n",
      "---  ------                       --------------  -----  \n",
      " 0   Auction_key                  1933 non-null   int64  \n",
      " 1   Auction_class                1933 non-null   object \n",
      " 2   Bid_class                    1933 non-null   object \n",
      " 3   Claim_price                  1933 non-null   int64  \n",
      " 4   Appraisal_company            1933 non-null   object \n",
      " 5   Appraisal_date               1933 non-null   object \n",
      " 6   Auction_count                1933 non-null   int64  \n",
      " 7   Auction_miscarriage_count    1933 non-null   int64  \n",
      " 8   Total_land_gross_area        1933 non-null   float64\n",
      " 9   Total_land_real_area         1933 non-null   float64\n",
      " 10  Total_land_auction_area      1933 non-null   float64\n",
      " 11  Total_building_area          1933 non-null   float64\n",
      " 12  Total_building_auction_area  1933 non-null   float64\n",
      " 13  Total_appraisal_price        1933 non-null   int64  \n",
      " 14  Minimum_sales_price          1933 non-null   int64  \n",
      " 15  First_auction_date           1933 non-null   object \n",
      " 16  Final_auction_date           1933 non-null   object \n",
      " 17  Final_result                 1933 non-null   object \n",
      " 18  Creditor                     1933 non-null   object \n",
      " 19  addr_do                      1933 non-null   object \n",
      " 20  addr_si                      1933 non-null   object \n",
      " 21  addr_dong                    1933 non-null   object \n",
      " 22  addr_li                      23 non-null     object \n",
      " 23  addr_san                     1933 non-null   object \n",
      " 24  addr_bunji1                  1929 non-null   float64\n",
      " 25  addr_bunji2                  889 non-null    float64\n",
      " 26  addr_etc                     1933 non-null   object \n",
      " 27  Apartment_usage              1933 non-null   object \n",
      " 28  Preserve_regist_date         1933 non-null   object \n",
      " 29  Total_floor                  1933 non-null   int64  \n",
      " 30  Current_floor                1933 non-null   int64  \n",
      " 31  Specific                     64 non-null     object \n",
      " 32  Share_auction_YorN           1933 non-null   object \n",
      " 33  road_name                    1933 non-null   object \n",
      " 34  road_bunji1                  1909 non-null   float64\n",
      " 35  road_bunji2                  155 non-null    float64\n",
      " 36  Close_date                   1933 non-null   object \n",
      " 37  Close_result                 1933 non-null   object \n",
      " 38  point.y                      1933 non-null   float64\n",
      " 39  point.x                      1933 non-null   float64\n",
      " 40  Hammer_price                 1933 non-null   int64  \n",
      "dtypes: float64(11), int64(9), object(21)\n",
      "memory usage: 619.3+ KB\n"
     ]
    }
   ],
   "source": [
    "data.info()"
   ]
  },
  {
   "cell_type": "code",
   "execution_count": 6,
   "metadata": {},
   "outputs": [
    {
     "data": {
      "text/plain": [
       "array(['임의', '강제'], dtype=object)"
      ]
     },
     "execution_count": 6,
     "metadata": {},
     "output_type": "execute_result"
    }
   ],
   "source": [
    "data['Auction_class'].unique()"
   ]
  },
  {
   "cell_type": "code",
   "execution_count": 8,
   "metadata": {},
   "outputs": [
    {
     "data": {
      "text/plain": [
       "array(['개별', '일반', '일괄'], dtype=object)"
      ]
     },
     "execution_count": 8,
     "metadata": {},
     "output_type": "execute_result"
    }
   ],
   "source": [
    "data['Bid_class'].unique()"
   ]
  },
  {
   "cell_type": "markdown",
   "metadata": {},
   "source": [
    "4. NA값 처리"
   ]
  },
  {
   "cell_type": "code",
   "execution_count": 3,
   "metadata": {},
   "outputs": [
    {
     "data": {
      "text/plain": [
       "Auction_key                       0\n",
       "Auction_class                     0\n",
       "Bid_class                         0\n",
       "Claim_price                       0\n",
       "Appraisal_company                 0\n",
       "Appraisal_date                    0\n",
       "Auction_count                     0\n",
       "Auction_miscarriage_count         0\n",
       "Total_land_gross_area             0\n",
       "Total_land_real_area              0\n",
       "Total_land_auction_area           0\n",
       "Total_building_area               0\n",
       "Total_building_auction_area       0\n",
       "Total_appraisal_price             0\n",
       "Minimum_sales_price               0\n",
       "First_auction_date                0\n",
       "Final_auction_date                0\n",
       "Final_result                      0\n",
       "Creditor                          0\n",
       "addr_do                           0\n",
       "addr_si                           0\n",
       "addr_dong                         0\n",
       "addr_li                        1910\n",
       "addr_san                          0\n",
       "addr_bunji1                       4\n",
       "addr_bunji2                    1044\n",
       "addr_etc                          0\n",
       "Apartment_usage                   0\n",
       "Preserve_regist_date              0\n",
       "Total_floor                       0\n",
       "Current_floor                     0\n",
       "Specific                       1869\n",
       "Share_auction_YorN                0\n",
       "road_name                         0\n",
       "road_bunji1                      24\n",
       "road_bunji2                    1778\n",
       "Close_date                        0\n",
       "Close_result                      0\n",
       "point.y                           0\n",
       "point.x                           0\n",
       "Hammer_price                      0\n",
       "dtype: int64"
      ]
     },
     "execution_count": 3,
     "metadata": {},
     "output_type": "execute_result"
    }
   ],
   "source": [
    "data.isna().sum()"
   ]
  },
  {
   "cell_type": "code",
   "execution_count": 33,
   "metadata": {},
   "outputs": [
    {
     "data": {
      "text/plain": [
       "(1933, 41)"
      ]
     },
     "execution_count": 33,
     "metadata": {},
     "output_type": "execute_result"
    }
   ],
   "source": [
    "data.shape"
   ]
  },
  {
   "cell_type": "markdown",
   "metadata": {},
   "source": [
    "- 대부분의 값이 na값이어서 떨구는게 맞을 듯..?"
   ]
  }
 ],
 "metadata": {
  "kernelspec": {
   "display_name": "Python 3",
   "language": "python",
   "name": "python3"
  },
  "language_info": {
   "codemirror_mode": {
    "name": "ipython",
    "version": 3
   },
   "file_extension": ".py",
   "mimetype": "text/x-python",
   "name": "python",
   "nbconvert_exporter": "python",
   "pygments_lexer": "ipython3",
   "version": "3.8.3"
  }
 },
 "nbformat": 4,
 "nbformat_minor": 4
}
