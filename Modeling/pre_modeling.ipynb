{
 "cells": [
  {
   "cell_type": "code",
   "execution_count": 1,
   "metadata": {},
   "outputs": [],
   "source": [
    "import pandas as pd\n",
    "import numpy as np\n",
    "from itertools import combinations\n",
    "from numpy import transpose as t\n",
    "from numpy.linalg import inv\n",
    "import math\n",
    "from scipy.special import gamma\n",
    "from scipy.special import loggamma\n",
    "from numpy import log"
   ]
  },
  {
   "cell_type": "code",
   "execution_count": 2,
   "metadata": {},
   "outputs": [],
   "source": [
    "data = pd.read_csv(\"data.csv\")"
   ]
  },
  {
   "cell_type": "code",
   "execution_count": 3,
   "metadata": {},
   "outputs": [
    {
     "data": {
      "text/html": [
       "<div>\n",
       "<style scoped>\n",
       "    .dataframe tbody tr th:only-of-type {\n",
       "        vertical-align: middle;\n",
       "    }\n",
       "\n",
       "    .dataframe tbody tr th {\n",
       "        vertical-align: top;\n",
       "    }\n",
       "\n",
       "    .dataframe thead th {\n",
       "        text-align: right;\n",
       "    }\n",
       "</style>\n",
       "<table border=\"1\" class=\"dataframe\">\n",
       "  <thead>\n",
       "    <tr style=\"text-align: right;\">\n",
       "      <th></th>\n",
       "      <th>PC1</th>\n",
       "      <th>PC2</th>\n",
       "      <th>Claim_price</th>\n",
       "      <th>Auction_count</th>\n",
       "      <th>Hammer_price</th>\n",
       "      <th>Final_First_auction_data</th>\n",
       "      <th>ad_si_0</th>\n",
       "      <th>ad_si_1</th>\n",
       "      <th>ad_si_2</th>\n",
       "      <th>ad_si_3</th>\n",
       "      <th>Appr_0</th>\n",
       "      <th>Appr_1</th>\n",
       "      <th>Appr_2</th>\n",
       "      <th>서울</th>\n",
       "      <th>transformed_Hammer_price</th>\n",
       "      <th>skyscraper</th>\n",
       "    </tr>\n",
       "  </thead>\n",
       "  <tbody>\n",
       "    <tr>\n",
       "      <th>0</th>\n",
       "      <td>2.823222</td>\n",
       "      <td>-1.435719</td>\n",
       "      <td>1766037301</td>\n",
       "      <td>2</td>\n",
       "      <td>760000000</td>\n",
       "      <td>35</td>\n",
       "      <td>0</td>\n",
       "      <td>1</td>\n",
       "      <td>0</td>\n",
       "      <td>0</td>\n",
       "      <td>0</td>\n",
       "      <td>0</td>\n",
       "      <td>1</td>\n",
       "      <td>0</td>\n",
       "      <td>175.394072</td>\n",
       "      <td>30</td>\n",
       "    </tr>\n",
       "    <tr>\n",
       "      <th>1</th>\n",
       "      <td>1.278944</td>\n",
       "      <td>-2.646606</td>\n",
       "      <td>152946867</td>\n",
       "      <td>2</td>\n",
       "      <td>971889999</td>\n",
       "      <td>35</td>\n",
       "      <td>0</td>\n",
       "      <td>1</td>\n",
       "      <td>0</td>\n",
       "      <td>0</td>\n",
       "      <td>0</td>\n",
       "      <td>0</td>\n",
       "      <td>1</td>\n",
       "      <td>0</td>\n",
       "      <td>182.985785</td>\n",
       "      <td>51</td>\n",
       "    </tr>\n",
       "    <tr>\n",
       "      <th>2</th>\n",
       "      <td>-0.530059</td>\n",
       "      <td>2.631658</td>\n",
       "      <td>11326510</td>\n",
       "      <td>3</td>\n",
       "      <td>93399999</td>\n",
       "      <td>77</td>\n",
       "      <td>0</td>\n",
       "      <td>0</td>\n",
       "      <td>0</td>\n",
       "      <td>1</td>\n",
       "      <td>0</td>\n",
       "      <td>0</td>\n",
       "      <td>1</td>\n",
       "      <td>0</td>\n",
       "      <td>121.888773</td>\n",
       "      <td>30</td>\n",
       "    </tr>\n",
       "    <tr>\n",
       "      <th>3</th>\n",
       "      <td>-0.706458</td>\n",
       "      <td>0.081095</td>\n",
       "      <td>183581724</td>\n",
       "      <td>2</td>\n",
       "      <td>256899000</td>\n",
       "      <td>105</td>\n",
       "      <td>0</td>\n",
       "      <td>0</td>\n",
       "      <td>0</td>\n",
       "      <td>1</td>\n",
       "      <td>0</td>\n",
       "      <td>0</td>\n",
       "      <td>1</td>\n",
       "      <td>0</td>\n",
       "      <td>145.387692</td>\n",
       "      <td>30</td>\n",
       "    </tr>\n",
       "    <tr>\n",
       "      <th>4</th>\n",
       "      <td>-0.533846</td>\n",
       "      <td>0.986816</td>\n",
       "      <td>45887671</td>\n",
       "      <td>2</td>\n",
       "      <td>158660000</td>\n",
       "      <td>28</td>\n",
       "      <td>0</td>\n",
       "      <td>0</td>\n",
       "      <td>0</td>\n",
       "      <td>1</td>\n",
       "      <td>0</td>\n",
       "      <td>0</td>\n",
       "      <td>1</td>\n",
       "      <td>0</td>\n",
       "      <td>133.700341</td>\n",
       "      <td>30</td>\n",
       "    </tr>\n",
       "  </tbody>\n",
       "</table>\n",
       "</div>"
      ],
      "text/plain": [
       "        PC1       PC2  Claim_price  Auction_count  Hammer_price  \\\n",
       "0  2.823222 -1.435719   1766037301              2     760000000   \n",
       "1  1.278944 -2.646606    152946867              2     971889999   \n",
       "2 -0.530059  2.631658     11326510              3      93399999   \n",
       "3 -0.706458  0.081095    183581724              2     256899000   \n",
       "4 -0.533846  0.986816     45887671              2     158660000   \n",
       "\n",
       "   Final_First_auction_data  ad_si_0  ad_si_1  ad_si_2  ad_si_3  Appr_0  \\\n",
       "0                        35        0        1        0        0       0   \n",
       "1                        35        0        1        0        0       0   \n",
       "2                        77        0        0        0        1       0   \n",
       "3                       105        0        0        0        1       0   \n",
       "4                        28        0        0        0        1       0   \n",
       "\n",
       "   Appr_1  Appr_2  서울  transformed_Hammer_price  skyscraper  \n",
       "0       0       1   0                175.394072          30  \n",
       "1       0       1   0                182.985785          51  \n",
       "2       0       1   0                121.888773          30  \n",
       "3       0       1   0                145.387692          30  \n",
       "4       0       1   0                133.700341          30  "
      ]
     },
     "execution_count": 3,
     "metadata": {},
     "output_type": "execute_result"
    }
   ],
   "source": [
    "data.head()"
   ]
  },
  {
   "cell_type": "code",
   "execution_count": 4,
   "metadata": {},
   "outputs": [],
   "source": [
    "X = data.drop(['Hammer_price','transformed_Hammer_price'],axis=1)\n",
    "y = data['transformed_Hammer_price']"
   ]
  },
  {
   "cell_type": "code",
   "execution_count": 5,
   "metadata": {},
   "outputs": [],
   "source": [
    "#scaling\n",
    "for i in X.columns:\n",
    "    m = np.mean(X[i])\n",
    "    s = np.std(X[i])\n",
    "    X[i] = X[i].apply(lambda x : (x-m)/s)"
   ]
  },
  {
   "cell_type": "code",
   "execution_count": 6,
   "metadata": {},
   "outputs": [],
   "source": [
    "class Model:\n",
    "    \n",
    "    def z_function(self,data,category_index):\n",
    "        p = data.shape[1]\n",
    "        category = [i for i in range(p)]\n",
    "        Ncategory = []\n",
    "        for i in category_index:\n",
    "            Ncategory.append(i)\n",
    "            for j in i:\n",
    "                category.remove(j)\n",
    "        x = [[i] for i in category]\n",
    "        for i in Ncategory:\n",
    "            x.append(i)\n",
    "        result = []\n",
    "        cnt=0\n",
    "        for i in range(len(x)): \n",
    "            count = len(list(combinations(x,i+1))) \n",
    "            for j in range(count):   \n",
    "                z = [0]*p\n",
    "                for k in range(i+1):\n",
    "                    if len(list(combinations(x,i+1))[j][k]) == 1: #(1,2)\n",
    "                        z[list(combinations(x,i+1))[j][k][0]] = 1\n",
    "                    else:\n",
    "                        for m in range(len(list(combinations(x,i+1))[j][k])):#(1,(2,3,4))\n",
    "                            z[list(combinations(x,i+1))[j][k][m]] = 1\n",
    "                result.append(z)\n",
    "        return result\n",
    "    \n",
    "    def sig(self,X,y):\n",
    "        X = np.array(X)\n",
    "        n = X.shape[0]\n",
    "        yhat = X@inv(t(X)@X)@t(X)@y\n",
    "        res = y-yhat\n",
    "        return sum(res**2)/n\n",
    "        \n",
    "    \n",
    "    def posterior(self,X,y,category_index,g):\n",
    "        nu0 = 1 \n",
    "        z = Model.z_function(self,X,category_index)\n",
    "        y = np.array(y)\n",
    "        l = []\n",
    "        for i in z:\n",
    "            i = np.array(i)\n",
    "            Xz = X.iloc[:,np.where(i==1)[0]]\n",
    "            n,p = Xz.shape\n",
    "            Xz = np.array(Xz)\n",
    "            sig0 = Model.sig(self,Xz,y)\n",
    "            ssr = t(y)@(np.eye(n)-g/(g+1)*Xz@inv(t(Xz)@Xz)@t(Xz))@y\n",
    "            loglikelihood = (-n/2)*log(np.pi)+loggamma((nu0+n)/2)-loggamma(nu0/2)-p/2*log(1+g)+nu0/2*log(nu0*sig0)-(nu0+n)/2*log(nu0*sig0+ssr)\n",
    "            l.append(loglikelihood)\n",
    "        l = l/sum(l)\n",
    "        return l"
   ]
  },
  {
   "cell_type": "code",
   "execution_count": 7,
   "metadata": {},
   "outputs": [],
   "source": [
    "m = Model()"
   ]
  },
  {
   "cell_type": "code",
   "execution_count": 8,
   "metadata": {},
   "outputs": [],
   "source": [
    "z = m.z_function(X,[[6,7,8,9],[10,11,12]])"
   ]
  },
  {
   "cell_type": "code",
   "execution_count": 9,
   "metadata": {},
   "outputs": [],
   "source": [
    "posterior = m.posterior(X,y,[[6,7,8,9],[10,11,12]],X.shape[0])"
   ]
  },
  {
   "cell_type": "code",
   "execution_count": 10,
   "metadata": {},
   "outputs": [],
   "source": [
    "result = pd.DataFrame()\n",
    "result['model'] = z\n",
    "result['posterior'] = posterior"
   ]
  },
  {
   "cell_type": "code",
   "execution_count": 11,
   "metadata": {},
   "outputs": [
    {
     "data": {
      "text/html": [
       "<div>\n",
       "<style scoped>\n",
       "    .dataframe tbody tr th:only-of-type {\n",
       "        vertical-align: middle;\n",
       "    }\n",
       "\n",
       "    .dataframe tbody tr th {\n",
       "        vertical-align: top;\n",
       "    }\n",
       "\n",
       "    .dataframe thead th {\n",
       "        text-align: right;\n",
       "    }\n",
       "</style>\n",
       "<table border=\"1\" class=\"dataframe\">\n",
       "  <thead>\n",
       "    <tr style=\"text-align: right;\">\n",
       "      <th></th>\n",
       "      <th>model</th>\n",
       "      <th>posterior</th>\n",
       "    </tr>\n",
       "  </thead>\n",
       "  <tbody>\n",
       "    <tr>\n",
       "      <th>0</th>\n",
       "      <td>[1, 0, 0, 0, 0, 0, 0, 0, 0, 0, 0, 0, 0, 0]</td>\n",
       "      <td>0.001953</td>\n",
       "    </tr>\n",
       "    <tr>\n",
       "      <th>1</th>\n",
       "      <td>[0, 1, 0, 0, 0, 0, 0, 0, 0, 0, 0, 0, 0, 0]</td>\n",
       "      <td>0.001954</td>\n",
       "    </tr>\n",
       "    <tr>\n",
       "      <th>2</th>\n",
       "      <td>[0, 0, 1, 0, 0, 0, 0, 0, 0, 0, 0, 0, 0, 0]</td>\n",
       "      <td>0.001955</td>\n",
       "    </tr>\n",
       "    <tr>\n",
       "      <th>3</th>\n",
       "      <td>[0, 0, 0, 1, 0, 0, 0, 0, 0, 0, 0, 0, 0, 0]</td>\n",
       "      <td>0.001955</td>\n",
       "    </tr>\n",
       "    <tr>\n",
       "      <th>4</th>\n",
       "      <td>[0, 0, 0, 0, 1, 0, 0, 0, 0, 0, 0, 0, 0, 0]</td>\n",
       "      <td>0.001955</td>\n",
       "    </tr>\n",
       "  </tbody>\n",
       "</table>\n",
       "</div>"
      ],
      "text/plain": [
       "                                        model  posterior\n",
       "0  [1, 0, 0, 0, 0, 0, 0, 0, 0, 0, 0, 0, 0, 0]   0.001953\n",
       "1  [0, 1, 0, 0, 0, 0, 0, 0, 0, 0, 0, 0, 0, 0]   0.001954\n",
       "2  [0, 0, 1, 0, 0, 0, 0, 0, 0, 0, 0, 0, 0, 0]   0.001955\n",
       "3  [0, 0, 0, 1, 0, 0, 0, 0, 0, 0, 0, 0, 0, 0]   0.001955\n",
       "4  [0, 0, 0, 0, 1, 0, 0, 0, 0, 0, 0, 0, 0, 0]   0.001955"
      ]
     },
     "execution_count": 11,
     "metadata": {},
     "output_type": "execute_result"
    }
   ],
   "source": [
    "result.head()"
   ]
  },
  {
   "cell_type": "code",
   "execution_count": 12,
   "metadata": {},
   "outputs": [
    {
     "data": {
      "text/plain": [
       "509"
      ]
     },
     "execution_count": 12,
     "metadata": {},
     "output_type": "execute_result"
    }
   ],
   "source": [
    "np.argmax(posterior)"
   ]
  },
  {
   "cell_type": "code",
   "execution_count": 13,
   "metadata": {},
   "outputs": [
    {
     "data": {
      "text/plain": [
       "model        [0, 1, 1, 1, 1, 1, 1, 1, 1, 1, 1, 1, 1, 1]\n",
       "posterior                                    0.00196073\n",
       "Name: 509, dtype: object"
      ]
     },
     "execution_count": 13,
     "metadata": {},
     "output_type": "execute_result"
    }
   ],
   "source": [
    "result.iloc[np.argmax(posterior),:]"
   ]
  }
 ],
 "metadata": {
  "kernelspec": {
   "display_name": "Python 3",
   "language": "python",
   "name": "python3"
  },
  "language_info": {
   "codemirror_mode": {
    "name": "ipython",
    "version": 3
   },
   "file_extension": ".py",
   "mimetype": "text/x-python",
   "name": "python",
   "nbconvert_exporter": "python",
   "pygments_lexer": "ipython3",
   "version": "3.8.3"
  }
 },
 "nbformat": 4,
 "nbformat_minor": 4
}
